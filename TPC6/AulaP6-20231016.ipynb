{
 "cells": [
  {
   "cell_type": "markdown",
   "id": "1e545158",
   "metadata": {},
   "source": [
    "# Aula Prática 6 (guião)\n",
    "### Semana de 16 a 20 de Outubro de 2022\n",
    "### José Carlos Ramalho e Luís Cunha\n",
    "### Sinopsis:\n",
    "Algoritmos e modelação de problemas com armazenamento em memória secundária."
   ]
  },
  {
   "cell_type": "markdown",
   "id": "1d9c2fbc",
   "metadata": {},
   "source": [
    "### Exercício 2: Polinómios\n",
    "\n",
    "Neste exercício, desenvolva as seguintes alíneas:"
   ]
  },
  {
   "cell_type": "markdown",
   "id": "8ef1ac42",
   "metadata": {},
   "source": [
    "#### a) Pense num modelo para polinómios e instancia os seguintes exemplos:\n",
    "\n",
    "* `x`\n",
    "* `2x + 1`\n",
    "* `7x^5 + 6x^3 - 2x^2 + 27`"
   ]
  },
  {
   "cell_type": "code",
   "execution_count": 20,
   "id": "854085f7",
   "metadata": {},
   "outputs": [],
   "source": [
    "# polinomio = [termo]\n",
    "# termo = (coeficiente,grau)\n",
    "# grau = Int\n",
    "# coeficiente = Int\n",
    "\n",
    "p1 = [(1,1)]\n",
    "p2 = [(2,1), (1,0)]\n",
    "p3 = [(7,5), (6,3), (-2,2), (27,0)]"
   ]
  },
  {
   "cell_type": "markdown",
   "id": "fdc3ff66",
   "metadata": {},
   "source": [
    "#### b) Defina uma função, ou funções, que pede ao utilizador a informação necessária para criar um polinómio, cria esse polinómio e devolve-o como resultado. Use a função criada para criar dois novos polinómios à sua escolha."
   ]
  },
  {
   "cell_type": "code",
   "execution_count": 2,
   "id": "fb44546a",
   "metadata": {},
   "outputs": [
    {
     "data": {
      "text/plain": [
       "[(2, 2), (3, 1), (4, 0)]"
      ]
     },
     "execution_count": 2,
     "metadata": {},
     "output_type": "execute_result"
    }
   ],
   "source": [
    "# Solução de 2.b)\n",
    "def criaPolIn():\n",
    "    resPol = []\n",
    "    grau = int(input(\"introduz o grau\"))\n",
    "    while grau >= 0:\n",
    "        coeficiente = int(input(\"introduz o coeficiente\"))\n",
    "        monomio = (coeficiente,grau)\n",
    "        resPol.append(monomio)\n",
    "        grau = grau - 1\n",
    "    return resPol \n",
    "criaPolIn()"
   ]
  },
  {
   "cell_type": "code",
   "execution_count": null,
   "id": "50bd8c04",
   "metadata": {},
   "outputs": [],
   "source": [
    "def criaPolIn():\n",
    "    resPol = []\n",
    "    grau = int(input(\"introduz o grau\"))\n",
    "    while grau >= 0:\n",
    "        coeficiente = int(input(\"introduz o coeficiente\"))\n",
    "        if coeficiente != 0:\n",
    "            monomio = (coeficiente,grau)\n",
    "            resPol.append(monomio)\n",
    "        grau = grau - 1\n",
    "    return resPol \n",
    "criaPolIn()"
   ]
  },
  {
   "cell_type": "code",
   "execution_count": null,
   "id": "cbfd2d95",
   "metadata": {},
   "outputs": [],
   "source": [
    "def criaPolIn():\n",
    "    resPol = []\n",
    "    i = 1\n",
    "    grau = int(input(\"introduz o grau\"))\n",
    "    while grau >= 0:\n",
    "        coeficiente = int(input(\"introduz o coeficiente\"))\n",
    "        if coeficiente != 0:\n",
    "            monomio = (coeficiente,grau)\n",
    "            resPol.append(monomio)\n",
    "        grau = grau - 1\n",
    "        i = i + 1\n",
    "    return resPol \n",
    "criaPolIn()"
   ]
  },
  {
   "cell_type": "markdown",
   "id": "9d3475e4",
   "metadata": {},
   "source": [
    "#### c) Defina uma função que calcula o valor do polinómio dado um valor de `x`"
   ]
  },
  {
   "cell_type": "code",
   "execution_count": 7,
   "id": "c4c8dc32",
   "metadata": {},
   "outputs": [],
   "source": [
    "# Solução de 2.c)\n",
    "def pot(base,exp):\n",
    "    res = 1\n",
    "    while exp > 1:\n",
    "        res = res * base\n",
    "        exp = exp - 1\n",
    "\n",
    "def calcPolinomio(p, x):\n",
    "    res = 0\n",
    "    for monomio in p:\n",
    "        coeficiente, grau = monomio\n",
    "        res = res + pot(x,grau)*coeficiente\n",
    "    return res"
   ]
  },
  {
   "cell_type": "markdown",
   "id": "6da31132",
   "metadata": {},
   "source": [
    "Use a função criada para calcular o valor dum polinómio, à sua escolha, para valores de x em `[-10, 10]`."
   ]
  },
  {
   "cell_type": "markdown",
   "id": "5fa6de75",
   "metadata": {},
   "source": [
    "#### d) Defina uma função que imprime no monitor o polinómio. Utilize-a para visualizar os polinómios criados até ao momento."
   ]
  },
  {
   "cell_type": "code",
   "execution_count": 10,
   "id": "b0716c72",
   "metadata": {},
   "outputs": [],
   "source": [
    "# Solução de 1.d)\n",
    "def verPolinomio(p):\n",
    "    for m in p:\n",
    "        coeficiente, grau = m\n",
    "        if coeficiente != 0:\n",
    "            if grau != 0:\n",
    "                print(coeficiente,\"x\", grau, end=\"\")\n",
    "            else:\n",
    "                print(\"+\", coeficiente, end=\"\")\n",
    "    return"
   ]
  },
  {
   "cell_type": "markdown",
   "id": "beb31acc",
   "metadata": {},
   "source": [
    "#### e) Defina uma função que calcula o grau de um polinómio dado. Aplique-a a alguns polinómios."
   ]
  },
  {
   "cell_type": "code",
   "execution_count": 15,
   "id": "09816d6e",
   "metadata": {},
   "outputs": [],
   "source": [
    "# Solução de 1.e)\n",
    "def grauPolinomio(p):\n",
    "    #...\n",
    "    return "
   ]
  },
  {
   "cell_type": "markdown",
   "id": "5a1a7c41",
   "metadata": {},
   "source": [
    "#### f) Defina uma função que calcula o maior grau de uma lista de polinómios."
   ]
  },
  {
   "cell_type": "code",
   "execution_count": null,
   "id": "ca598c3d",
   "metadata": {},
   "outputs": [],
   "source": [
    "# Solução de 1.f)\n",
    "def grauPolinomios(listap):\n",
    "    #...\n",
    "    return "
   ]
  },
  {
   "cell_type": "markdown",
   "id": "0cfe33d8",
   "metadata": {},
   "source": [
    "#### g) Defina uma função que imprime no monitor uma tabela com n linhas: x | p(x)\n",
    "\n",
    "Aplique-a a alguns polinómios."
   ]
  },
  {
   "cell_type": "code",
   "execution_count": null,
   "id": "3619f63c",
   "metadata": {},
   "outputs": [],
   "source": [
    "# Solução de 1.g)\n",
    "def tabela(p, linhas):\n",
    "    #...\n",
    "    return"
   ]
  },
  {
   "cell_type": "markdown",
   "id": "df16478c",
   "metadata": {},
   "source": [
    "#### h) Define uma função que dado um polinómio calcula a sua derivada\n",
    "\n",
    "Aplique-a a alguns polinómios."
   ]
  },
  {
   "cell_type": "code",
   "execution_count": null,
   "id": "6bd99681",
   "metadata": {},
   "outputs": [],
   "source": [
    "# Solução de 1.h)\n",
    "def derivarPolinomio(p):\n",
    "    # ...\n",
    "    return"
   ]
  },
  {
   "cell_type": "markdown",
   "id": "5ea31c40",
   "metadata": {},
   "source": [
    "#### i) Define uma função que recebe dois polinómios `p1` e `p2` e calcula um novo polinómio correspondente à soma de `p1` e `p2`."
   ]
  },
  {
   "cell_type": "code",
   "execution_count": null,
   "id": "a2ef85a5",
   "metadata": {},
   "outputs": [],
   "source": [
    "# Solução de 1.i)\n",
    "def somarPolinomios(p1,p2):\n",
    "    ...\n",
    "    return"
   ]
  },
  {
   "cell_type": "markdown",
   "id": "a582ac17",
   "metadata": {},
   "source": [
    "#### j) Defina uma função para guardar uma lista de polinómios num ficheiro. Utilize-a para guardar os polinómios criados até ao momento."
   ]
  },
  {
   "cell_type": "code",
   "execution_count": 18,
   "id": "2b3f58dd",
   "metadata": {},
   "outputs": [],
   "source": [
    "# Solução de 1.j)\n",
    "def guardarPolinomios(listap, fnome):\n",
    "    file = open(\"polinomios.txt\",\"w\")\n",
    "    for p in listap:\n",
    "        for termo in p:\n",
    "            coe, grau = termo\n",
    "            file.write(str(coe) + \";\" + str(grau) + \"#\")\n",
    "        file.write(\"\\n\")\n",
    "    file.close()\n",
    "guardarPolinomios(listap,\"polinomios.txt\")"
   ]
  },
  {
   "cell_type": "markdown",
   "id": "7f7d1410",
   "metadata": {},
   "source": [
    "#### k) Defina uma função para recuperar um polinómio dum ficheiro. Utilize-a para ler o ficheiro criado na alínea anterior."
   ]
  },
  {
   "cell_type": "code",
   "execution_count": 9,
   "id": "72081c41",
   "metadata": {},
   "outputs": [],
   "source": [
    "# Solução de 1.k)\n",
    "def recuperarPolinomios(fnome):\n",
    "    file = open(fnome, \"r\")\n",
    "    for line in  file:\n",
    "        print(line, end=\"\")\n",
    "    return \n"
   ]
  },
  {
   "cell_type": "markdown",
   "id": "fed2fbc4",
   "metadata": {},
   "source": [
    "#### l) Baseando-se nas funções até agora criadas, crie novas funções para manipular **listas de polinómios**: criar, ver, guardar e recuperar"
   ]
  },
  {
   "cell_type": "code",
   "execution_count": null,
   "id": "986c8587",
   "metadata": {},
   "outputs": [],
   "source": [
    "# Solução de 1.l)\n",
    "# ..."
   ]
  },
  {
   "cell_type": "markdown",
   "id": "6bea73df",
   "metadata": {},
   "source": [
    "#### m) Junte todas as funções num módulo, `polinomios.py`, e usa-o num pequeno programa exemplo"
   ]
  },
  {
   "cell_type": "code",
   "execution_count": null,
   "id": "82a2401b",
   "metadata": {},
   "outputs": [],
   "source": [
    "# Solução de 1.m)"
   ]
  },
  {
   "cell_type": "markdown",
   "id": "4193a91b",
   "metadata": {},
   "source": [
    "### TPC6: Análise de dados: doença cardíaca\n",
    "\n",
    "Descarregue o ficheiro de dados: [diabetes_prediction_dataset.csv](./datasets/diabetes_prediction_dataset.csv.zip).\n",
    "\n",
    "Encontra mais informação sobre este conjunto de dados [aqui](https://www.kaggle.com/datasets/iammustafatz/diabetes-prediction-dataset).\n",
    "\n",
    "Crie um programa em Python, conjunto de funções, que responda às seguintes questões:\n",
    "* Crie uma função que lê a informação do ficheiro para um modelo, previamente pensado em memória;\n",
    "* Crie uma função que calcula a distribuição da doença por sexo (tenha atenção que indivíduos doentes e não doentes no dataset);\n",
    "* Crie uma função que calcula a distribuição da doença por escalões etários. Considere os seguintes escalões: [0-10], [11-24], [25-29], [30-34], [35-39], [40-44], ...\n",
    "* Crie uma função que calcula a distribuição da doença por níveis de glucose. Considere um nível igual a um intervalo de 10 unidades, comece no limite inferior e crie os níveis necessários até abranger o limite superior;\n",
    "* Crie uma função que imprime na forma de uma tabela uma distribuição;\n",
    "* Especifique um programa que ao executar apresenta as tabelas correspondentes às distribuições pedidas."
   ]
  },
  {
   "cell_type": "code",
   "execution_count": null,
   "id": "375665c6",
   "metadata": {},
   "outputs": [],
   "source": [
    "import csv\n",
    "\n",
    "tabela = []\n",
    "\n",
    "def lerinformacao():\n",
    "    ficheiro = open(\"diabetes_prediction_dataset.csv\", mode= \"r\")\n",
    "    inftabela = csv.reader(ficheiro, delimiter= \",\")\n",
    "    nlinha = 0\n",
    "    for linha in inftabela:\n",
    "        if nlinha == 0:\n",
    "            nlinha = nlinha + 1\n",
    "        else: \n",
    "            tabela.append((int(linha[0]), int(linha[1]), int(linha[2]), int(linha[3]), int(linha[4]), int(linha[5])))\n",
    "\n",
    "def distribuicaosexo():\n",
    "    lerinformacao()\n",
    "    contadorM = 0\n",
    "    contadorF = 0\n",
    "    for t in tabela:\n",
    "        sexo, idade, tensao, coracao, fumador, glucose, diabetes, temdoencas = t\n",
    "        if temdoencas == 1 and sexo == \"M\":\n",
    "            contadorM = contadorM + 1\n",
    "        elif temdoencas == 1 and sexo == \"F\":\n",
    "             contadorF = contadorF + 1\n",
    "    print(\"Contagem Masculina:\", contadorM)\n",
    "    print(\"Contagem Feminina:\", contadorF)\n",
    "\n",
    "def distribuicaodeidade():\n",
    "    lerinformacao()\n",
    "    escaloes = [[0, 10], [11, 24], [25, 29], [30, 34], [35,39], [40, 44], [45, 49], [50, 54], [55, 59], [60, 64], [65, 69], [70, 74], [75, 79], [80, 84], [84, 89]]\n",
    "    lista = []\n",
    "    for t in tabela:\n",
    "        sexo, idade, tensao, coracao, fumador, glucose, diabetes, temdoencas = t\n",
    "        for escalao in escaloes: \n",
    "            if temdoencas == 1 and idade >= escalao[0] and idade <= escalao[1]:\n",
    "                lista.append(escalao)\n",
    "    for escalao in escaloes:\n",
    "        print(\"Escalão\", escalao, \"tem:\", lista.count(escalao), \"pessoas\")\n",
    "\n",
    "def distribuicaoglucose():\n",
    "    lerinformacao()\n",
    "    lista = []\n",
    "    nivelgluc = [[0,100], [101,110], [111,120], [121,130], [131,140], [141,150], [151,160], [161,170], [171,180], [181,190], [191, 200], [201,210], [211,220], [221,230], [231,240], [241,250], [251, 260], [261,270], [271,280], [281,290], [291, 300], [301,310], [311,320], [321, 330], [331, 340], [341, 350]]\n",
    "    for t in tabela:\n",
    "        isexo, idade, tensao, coracao, fumador, glucose, diabetes, temdoencas = t\n",
    "        for nivel in nivelgluc: \n",
    "            if temdoencas == 1 and glucose >= nivel[0] and glucose <= nivel[1]:\n",
    "                lista.append(nivel)\n",
    "    for nivel in nivelgluc:\n",
    "        print(\"Nivel\", nivel, \"tem:\", lista.count(nivel), \"pessoas\")\n",
    "        \n",
    "def menu():\n",
    "    opcao = int(input(\"Introduza um número entre 1 e 4: \"))\n",
    "    if opcao == 1:\n",
    "        lerinformacao()\n",
    "    elif opcao == 2:\n",
    "        distribuicaosexo()\n",
    "    elif opcao == 3:\n",
    "            distribuicaodeidade()\n",
    "    elif opcao == 4:\n",
    "            distribuicaoglucose()\n",
    "menu()"
   ]
  }
 ],
 "metadata": {
  "kernelspec": {
   "display_name": "Python 3.9.1 64-bit",
   "language": "python",
   "name": "python3"
  },
  "language_info": {
   "codemirror_mode": {
    "name": "ipython",
    "version": 3
   },
   "file_extension": ".py",
   "mimetype": "text/x-python",
   "name": "python",
   "nbconvert_exporter": "python",
   "pygments_lexer": "ipython3",
   "version": "3.11.0"
  },
  "vscode": {
   "interpreter": {
    "hash": "aee8b7b246df8f9039afb4144a1f6fd8d2ca17a180786b69acc140d282b71a49"
   }
  }
 },
 "nbformat": 4,
 "nbformat_minor": 5
}
