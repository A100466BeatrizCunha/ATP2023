{
 "cells": [
  {
   "cell_type": "markdown",
   "id": "1e545158",
   "metadata": {},
   "source": [
    "# Aula Prática 4 (guião)\n",
    "### Semana de 2 a 6 de Outubro de 2023\n",
    "### José Carlos Ramalho e Luís Cunha\n",
    "### Sinopsis:\n",
    "Algoritmos sobre listas."
   ]
  },
  {
   "cell_type": "markdown",
   "id": "e38d18c4-d7d7-4fea-9bc6-e3f3c903386b",
   "metadata": {},
   "source": [
    "### Exercício 1: Criar uma lista \n",
    "- Defina uma função que recebe um argumento **N** e devolve uma  lista com os números ímpares até **N**;\n",
    "- Crie um programa que chama a função e imprime a lista resultante."
   ]
  },
  {
   "cell_type": "code",
   "execution_count": 6,
   "id": "af973146-3bb4-4fa8-ba6c-b887b79ccff8",
   "metadata": {},
   "outputs": [
    {
     "data": {
      "text/plain": [
       "[5, 3, 1]"
      ]
     },
     "execution_count": 6,
     "metadata": {},
     "output_type": "execute_result"
    }
   ],
   "source": [
    "# Solução do exercício 1\n",
    "def criaLista(N):\n",
    "    listaPares = []\n",
    "    listaImpares = []\n",
    "    while N > 0:\n",
    "        if N % 2 == 0:\n",
    "            listaPares.append(N)\n",
    "        else:\n",
    "            listaImpares.append(N)\n",
    "        N = N - 1\n",
    "    return listaImpares\n",
    "criaLista(5)\n"
   ]
  },
  {
   "cell_type": "code",
   "execution_count": 7,
   "id": "ea30f593",
   "metadata": {},
   "outputs": [
    {
     "data": {
      "text/plain": [
       "[1, 3, 5]"
      ]
     },
     "execution_count": 7,
     "metadata": {},
     "output_type": "execute_result"
    }
   ],
   "source": [
    "def criaLista(N):\n",
    "    lista_impares = [] \n",
    "    for i in range(1, N+1, 2): #ou for i in range(0,N+1):\n",
    "        lista_impares.append(i) #if i % 2 != 0:\n",
    "    return lista_impares\n",
    "criaLista(5)"
   ]
  },
  {
   "cell_type": "code",
   "execution_count": 9,
   "id": "f85e7681",
   "metadata": {},
   "outputs": [
    {
     "data": {
      "text/plain": [
       "[1, 3, 5, 7, 9, 11]"
      ]
     },
     "execution_count": 9,
     "metadata": {},
     "output_type": "execute_result"
    }
   ],
   "source": [
    "def criaLista(N):\n",
    "    lista = []\n",
    "    x = 0\n",
    "    while x <= N:\n",
    "        if x%2 != 0:\n",
    "            lista.append(x)\n",
    "        x = x + 1\n",
    "    return lista\n",
    "criaLista(11)"
   ]
  },
  {
   "cell_type": "code",
   "execution_count": 1,
   "id": "de064ad8",
   "metadata": {},
   "outputs": [
    {
     "data": {
      "text/plain": [
       "[1, 3, 5, 7, 9, 11]"
      ]
     },
     "execution_count": 1,
     "metadata": {},
     "output_type": "execute_result"
    }
   ],
   "source": [
    "def criaLista(N):\n",
    "    lista = []\n",
    "    x = 1\n",
    "    while x <= N:\n",
    "        lista.append(x)\n",
    "        x = x + 2\n",
    "    return lista\n",
    "criaLista(11)"
   ]
  },
  {
   "cell_type": "markdown",
   "id": "bdcbffb0",
   "metadata": {},
   "source": [
    "### Exercício 2: Ler uma lista de N números\n",
    "- Defina uma função que recebe um argumento **N** e lê **N** números armazenando-os numa lista que é devolvida como resultado;\n",
    "- Crie um programa que chama a função e imprime a lista resultante."
   ]
  },
  {
   "cell_type": "code",
   "execution_count": 1,
   "id": "af973146-3bb4-4fa8-ba6c-b887b79ccff8",
   "metadata": {},
   "outputs": [
    {
     "data": {
      "text/plain": [
       "[0, 1, 2, 3, 4, 5]"
      ]
     },
     "execution_count": 1,
     "metadata": {},
     "output_type": "execute_result"
    }
   ],
   "source": [
    "# Solução do exercício 2\n",
    "def leLista(N):\n",
    "    lista = []\n",
    "    x = 0\n",
    "    while x <= N:\n",
    "        lista.append(x)\n",
    "        x = x + 1\n",
    "    return lista\n",
    "leLista(5)"
   ]
  },
  {
   "cell_type": "markdown",
   "id": "bdcbffb0",
   "metadata": {},
   "source": [
    "### Exercício 3: Somar uma lista de números\n",
    "- Defina uma função que recebe uma lista como argumento e devolve a soma dos números nessa lista."
   ]
  },
  {
   "cell_type": "code",
   "execution_count": 3,
   "id": "64ad6f7b",
   "metadata": {},
   "outputs": [
    {
     "data": {
      "text/plain": [
       "10"
      ]
     },
     "execution_count": 3,
     "metadata": {},
     "output_type": "execute_result"
    }
   ],
   "source": [
    "# Solução do exercício 3\n",
    "def somaLista(lista):\n",
    "    soma = 0\n",
    "    for e in lista:\n",
    "        soma += e\n",
    "    return soma\n",
    "somaLista([1,2,3,4])"
   ]
  },
  {
   "cell_type": "markdown",
   "id": "65565661",
   "metadata": {},
   "source": [
    "### Exercício 4: Quadrado dos elementos de uma lista\n",
    "\n",
    "- Defina uma função que recebe uma lista como argumento e devolve uma nova lista com os quadrados de cada número da lista inicial. \n",
    "\n",
    "#### Input (exemplo)\n",
    "in: [1, 2, 3, 4]\n",
    "#### Output (exemplo)\n",
    "out: [1, 4, 9, 16]"
   ]
  },
  {
   "cell_type": "code",
   "execution_count": 5,
   "id": "7e3e2775",
   "metadata": {},
   "outputs": [
    {
     "data": {
      "text/plain": [
       "[1, 4, 9, 16]"
      ]
     },
     "execution_count": 5,
     "metadata": {},
     "output_type": "execute_result"
    }
   ],
   "source": [
    "# Solução do exercício 4\n",
    "def quadrados(lista):\n",
    "    listanova = []\n",
    "    for e in lista:\n",
    "        n = e*e\n",
    "        listanova.append(n)  \n",
    "    return listanova\n",
    "quadrados([1,2,3,4])"
   ]
  },
  {
   "cell_type": "markdown",
   "id": "bdcbffb0",
   "metadata": {},
   "source": [
    "### Exercício 5: Calcular a média duma lista de números\n",
    "- Defina uma função que recebe uma lista como argumento e devolve a média dos números nessa lista."
   ]
  },
  {
   "cell_type": "code",
   "execution_count": 6,
   "id": "a6c32b2e",
   "metadata": {},
   "outputs": [
    {
     "data": {
      "text/plain": [
       "3.0"
      ]
     },
     "execution_count": 6,
     "metadata": {},
     "output_type": "execute_result"
    }
   ],
   "source": [
    "# Solução do exercício 5\n",
    "def mediaLista(lista):\n",
    "    x = somaLista(lista)/len(lista)\n",
    "\n",
    "    return x\n",
    "mediaLista([1,2,3,4,5])"
   ]
  },
  {
   "cell_type": "markdown",
   "id": "f41ef69b",
   "metadata": {},
   "source": [
    "### Exercício 6: Maior de uma sequência\n",
    "- Defina uma função que recebe uma lista como argumento e devolve o maior número nessa lista."
   ]
  },
  {
   "cell_type": "code",
   "execution_count": 7,
   "id": "86f5b24d",
   "metadata": {},
   "outputs": [
    {
     "data": {
      "text/plain": [
       "5"
      ]
     },
     "execution_count": 7,
     "metadata": {},
     "output_type": "execute_result"
    }
   ],
   "source": [
    "# Solução do exercício 6\n",
    "def maiorLista(lista):\n",
    "    maior = 0\n",
    "    for e in lista:\n",
    "        if e > maior:\n",
    "            maior = e  \n",
    "    return maior\n",
    "maiorLista([1,2,3,4,5])"
   ]
  },
  {
   "cell_type": "markdown",
   "id": "d11cdd11",
   "metadata": {},
   "source": [
    "### Exercício 6: Menor de uma sequência\n",
    "- Defina uma função que recebe uma lista como argumento e devolve o menor número nessa lista."
   ]
  },
  {
   "cell_type": "code",
   "execution_count": 8,
   "id": "7549c7d7",
   "metadata": {},
   "outputs": [
    {
     "data": {
      "text/plain": [
       "1"
      ]
     },
     "execution_count": 8,
     "metadata": {},
     "output_type": "execute_result"
    }
   ],
   "source": [
    "# Solução do exercício 6\n",
    "def menorLista(lista):\n",
    "    menor = lista[0]\n",
    "    for e in lista:\n",
    "        if e < menor:\n",
    "            menor = e\n",
    "    return menor\n",
    "menorLista([1,2,3,4,5])"
   ]
  },
  {
   "cell_type": "markdown",
   "id": "bb597e57",
   "metadata": {},
   "source": [
    "### Exercício 7: Contar Ocorrências\n",
    "- Defina uma função que recebe uma lista e um elemento como argumento, e que devolve o número de ocurrências desse elemento na lista."
   ]
  },
  {
   "cell_type": "code",
   "execution_count": 11,
   "id": "e426e923",
   "metadata": {},
   "outputs": [
    {
     "data": {
      "text/plain": [
       "2"
      ]
     },
     "execution_count": 11,
     "metadata": {},
     "output_type": "execute_result"
    }
   ],
   "source": [
    "# Solução do exercício 7\n",
    "def occor(lista, elem):\n",
    "    e = 0\n",
    "    for item in lista:\n",
    "        if item == elem:\n",
    "            e = e + 1\n",
    "    return e\n",
    "occor([1,2,3,2],2)"
   ]
  },
  {
   "cell_type": "markdown",
   "id": "775a02a5",
   "metadata": {},
   "source": [
    "### Exercício 8: Contar strings\n",
    "- Defina uma função que recebe uma lista de strings como argumento e devolve número de strings nessa lista que:\n",
    "    1. Têm tamanho maior ou igual a 3;\n",
    "    2. Começam e terminam pelo mesmo caracter.\n",
    "#### Input (exemplo)\n",
    "in: ['abc', 'xyz', 'ab', '1221']\n",
    "#### Output (exemplo)\n",
    "out1: 3\n",
    "\n",
    "out2: 1"
   ]
  },
  {
   "cell_type": "code",
   "execution_count": 12,
   "id": "7390bc6a",
   "metadata": {},
   "outputs": [
    {
     "data": {
      "text/plain": [
       "1"
      ]
     },
     "execution_count": 12,
     "metadata": {},
     "output_type": "execute_result"
    }
   ],
   "source": [
    "# Solução do exercício 8\n",
    "def contarStringsLista(lista):\n",
    "    palavras = 0\n",
    "    for s in lista:\n",
    "        if len(s) >= 3 and s[0]==s[-1]:\n",
    "            palavras += 1\n",
    "    return palavras\n",
    "contarStringsLista(['abc', 'xyz', 'ab', '1221'])"
   ]
  },
  {
   "cell_type": "markdown",
   "id": "f9ba457b",
   "metadata": {},
   "source": [
    "### Exercício 9: Remover duplicados\n",
    "- Defina uma função que recebe uma lista como argumento e devolve uma nova lista eliminando elementos repetidos."
   ]
  },
  {
   "cell_type": "code",
   "execution_count": 13,
   "id": "0abc61e5",
   "metadata": {},
   "outputs": [
    {
     "data": {
      "text/plain": [
       "[1, 2, 3, 4]"
      ]
     },
     "execution_count": 13,
     "metadata": {},
     "output_type": "execute_result"
    }
   ],
   "source": [
    "# Solução do exercício 9\n",
    "def remDupLista(lista):\n",
    "    listanova = []\n",
    "    for e in lista:\n",
    "        if e not in listanova:\n",
    "            listanova.append(e)  \n",
    "    return listanova\n",
    "remDupLista([1,2,3,4,2,4])"
   ]
  },
  {
   "cell_type": "markdown",
   "id": "9bc471d8",
   "metadata": {},
   "source": [
    "### Exercício 10: eVazia?\n",
    "- Defina uma função que recebe uma lista como argumento e devolve um resultado booleano verdadeiro se a lista estiver vazia."
   ]
  },
  {
   "cell_type": "code",
   "execution_count": 3,
   "id": "18cf2aff",
   "metadata": {},
   "outputs": [
    {
     "data": {
      "text/plain": [
       "True"
      ]
     },
     "execution_count": 3,
     "metadata": {},
     "output_type": "execute_result"
    }
   ],
   "source": [
    "# Solução do exercício 10\n",
    "def eVazia(lista):\n",
    "    if len(lista)==0:\n",
    "        valor = True\n",
    "    else:\n",
    "        valor = False  \n",
    "    return valor\n",
    "eVazia([])"
   ]
  },
  {
   "cell_type": "markdown",
   "id": "72b8fac0",
   "metadata": {},
   "source": [
    "### Exercício 11: Copiar lista\n",
    "- Defina uma função que recebe uma lista como argumento e devolve uma nova lista correspondente a uma cópia da lista recebida."
   ]
  },
  {
   "cell_type": "code",
   "execution_count": 14,
   "id": "a61ca503",
   "metadata": {},
   "outputs": [
    {
     "data": {
      "text/plain": [
       "[1, 2, 3, 4]"
      ]
     },
     "execution_count": 14,
     "metadata": {},
     "output_type": "execute_result"
    }
   ],
   "source": [
    "# Solução do exercício 11\n",
    "def copiarLista(lista):\n",
    "    listanova = []\n",
    "    for i in lista:\n",
    "        listanova.append(i)\n",
    "    return listanova\n",
    "copiarLista([1,2,3,4])"
   ]
  },
  {
   "cell_type": "markdown",
   "id": "d170cc50",
   "metadata": {},
   "source": [
    "### Exercício 12: Strings maiores que n carateres\n",
    "- Defina uma função que recebe dois argumentos, uma lista de strings e um número inteiro, e que devolve uma nova lista de strings em que estas têm um comprimento igual ou superior ao valor inteiro passado como argumento."
   ]
  },
  {
   "cell_type": "code",
   "execution_count": 17,
   "id": "1944ef1d",
   "metadata": {},
   "outputs": [
    {
     "data": {
      "text/plain": [
       "['1221']"
      ]
     },
     "execution_count": 17,
     "metadata": {},
     "output_type": "execute_result"
    }
   ],
   "source": [
    "# Solução do exercício 12\n",
    "def stringsMaioresLista(lista, n):\n",
    "    listanova=[]\n",
    "    for s in lista:\n",
    "        if len(s)>=n:\n",
    "            listanova.append(s)\n",
    "    return listanova\n",
    "stringsMaioresLista(['abc', 'xyz', 'ab', '1221'],4)"
   ]
  },
  {
   "cell_type": "markdown",
   "id": "af46fe06",
   "metadata": {},
   "source": [
    "### Exercício 13: Comum?\n",
    "- Defina uma função que recebe duas listas como argumento, e que devolve o valor booleano verdadeiro se as listas tiverem pelo menos um elemento comum."
   ]
  },
  {
   "cell_type": "code",
   "execution_count": 4,
   "id": "7a2f4413",
   "metadata": {},
   "outputs": [
    {
     "data": {
      "text/plain": [
       "True"
      ]
     },
     "execution_count": 4,
     "metadata": {},
     "output_type": "execute_result"
    }
   ],
   "source": [
    "# Solução do exercício 13\n",
    "def haComuns(listaA, listaB):\n",
    "    res = False\n",
    "    for e in listaA:\n",
    "        if e in listaB:\n",
    "            res = True   \n",
    "    return res\n",
    "haComuns([1,2,3],[2,3,4])"
   ]
  },
  {
   "cell_type": "markdown",
   "id": "061bae0e",
   "metadata": {},
   "source": [
    "### Exercício 14: Comuns\n",
    "- Defina uma função que recebe duas listas como argumento, e que devolve uma nova lista com os valores comuns às duas listas."
   ]
  },
  {
   "cell_type": "code",
   "execution_count": 6,
   "id": "02db9458",
   "metadata": {},
   "outputs": [
    {
     "data": {
      "text/plain": [
       "[3, 5]"
      ]
     },
     "execution_count": 6,
     "metadata": {},
     "output_type": "execute_result"
    }
   ],
   "source": [
    "# Solução do exercício 14\n",
    "def comuns(listaA, listaB):\n",
    "    listanova2 = []\n",
    "    for e in listaA:\n",
    "        if e in listaB:\n",
    "            listanova2.append(e)\n",
    "    return listanova2\n",
    "comuns([2,3,4,5],[3,5,1])"
   ]
  },
  {
   "cell_type": "markdown",
   "id": "af4f2b11",
   "metadata": {},
   "source": [
    "### Exercício 15: Únicos\n",
    "- Defina uma função que recebe duas listas como argumento, e que devolve uma nova lista com os valores que apenas existem numa delas."
   ]
  },
  {
   "cell_type": "code",
   "execution_count": 8,
   "id": "01a0d35e",
   "metadata": {},
   "outputs": [
    {
     "data": {
      "text/plain": [
       "[1, 2, 6, 7]"
      ]
     },
     "execution_count": 8,
     "metadata": {},
     "output_type": "execute_result"
    }
   ],
   "source": [
    "# Solução do exercício 15\n",
    "def unicos(listaA, listaB):\n",
    "    unico = []\n",
    "    for e in listaA: # Verifica os valores exclusivos em lista1\n",
    "        if e not in listaB:\n",
    "            unico.append(e)\n",
    "    for e in listaB: # Verifica os valores exclusivos em lista2\n",
    "        if e not in listaA:\n",
    "            unico.append(e)\n",
    "    return unico\n",
    "unicos([1,2,3,4,5],[3,4,5,6,7])\n"
   ]
  },
  {
   "cell_type": "markdown",
   "id": "2acbab46",
   "metadata": {},
   "source": [
    "### Exercício 16: indiceDe\n",
    "- Defina uma função que recebe uma lista e um elemento como argumento, e que devolve o índice desse elemento na lista. No caso do elemento não existir na lista deverá devolver o valor -1."
   ]
  },
  {
   "cell_type": "code",
   "execution_count": 13,
   "id": "3891e6c3",
   "metadata": {},
   "outputs": [
    {
     "data": {
      "text/plain": [
       "2"
      ]
     },
     "execution_count": 13,
     "metadata": {},
     "output_type": "execute_result"
    }
   ],
   "source": [
    "# Solução do exercício 16\n",
    "def indice(lista, elem):\n",
    "    for i in range(len(lista)): #percorrer os indices da lista\n",
    "        if lista[i] == elem:\n",
    "            return i\n",
    "    return -1\n",
    "indice([1,2,3,4],3)"
   ]
  },
  {
   "cell_type": "markdown",
   "id": "1d9c2fbc",
   "metadata": {},
   "source": [
    "### Exercício 17: estaOrdenada\n",
    "- Defina uma função que recebe uma lista de números e verifica se a mesma está ordenada por ordem crescente."
   ]
  },
  {
   "cell_type": "code",
   "execution_count": 16,
   "id": "fb44546a",
   "metadata": {},
   "outputs": [
    {
     "data": {
      "text/plain": [
       "False"
      ]
     },
     "execution_count": 16,
     "metadata": {},
     "output_type": "execute_result"
    }
   ],
   "source": [
    "# Solução do exercício 17\n",
    "def estaOrdenada(lista):\n",
    "    res = True\n",
    "    for i in range(1,len(lista)):\n",
    "        if lista[i-1] > lista[i]:\n",
    "            res = False\n",
    "    return res\n",
    "estaOrdenada([1,2,4,3,5])\n"
   ]
  },
  {
   "cell_type": "markdown",
   "id": "4c48dc90",
   "metadata": {},
   "source": [
    "### Exercício 18: estaOrdenadaCD\n",
    "- Modifique a função do exercício anterior para receber um parâmetro extra, **ordem**, que poderá ter valores \"C\" ou \"D\" e que vai verificar se a lista está ordenada por ordem crescente se **ordem=\"C\"** ou se está ordenada por ordem decrescente se **ordem=\"D\"**."
   ]
  },
  {
   "cell_type": "code",
   "execution_count": 32,
   "id": "f4b83960",
   "metadata": {},
   "outputs": [
    {
     "data": {
      "text/plain": [
       "True"
      ]
     },
     "execution_count": 32,
     "metadata": {},
     "output_type": "execute_result"
    }
   ],
   "source": [
    "# Solução do exercício 18\n",
    "def estaOrdenadaCD(lista, ordem):\n",
    "    res = True\n",
    "    if ordem == \"C\":\n",
    "        for i in range(1,len(lista)):\n",
    "            if lista[i-1] > lista[i]:\n",
    "                res = False\n",
    "    elif ordem == \"D\":\n",
    "        for i in range(1,len(lista)):\n",
    "            if lista[i-1] < lista[i]:\n",
    "                res = False\n",
    "    else:\n",
    "        res = False\n",
    "    return res\n",
    "estaOrdenadaCD([3,2,1],\"D\")"
   ]
  },
  {
   "cell_type": "markdown",
   "id": "4193a91b",
   "metadata": {},
   "source": [
    "### TPC4: Aplicação para manipulação de listas de inteiros\n",
    "- Crie uma aplicação em Python que coloca no monitor o seguinte menu:\n",
    "    * (1) Criar Lista \n",
    "    * (2) Ler Lista\n",
    "    * (3) Soma\n",
    "    * (4) Média\n",
    "    * (5) Maior\n",
    "    * (6) Menor\n",
    "    * (7) estaOrdenada por ordem crescente\n",
    "    * (8) estaOrdenada por ordem decrescente\n",
    "    * (9) Procura um elemento\n",
    "    * (0) Sair\n",
    "- O utilizador irá escolher uma das opções introduzindo o número correspondente;\n",
    "- Se a opção não for sair, a aplicação executa a operação pretendida, apresenta o resultado e a seguir apresenta de novo o menu;\n",
    "- Se a opção for sair, a aplicação termina colocando uma mensagem no monitor.\n",
    "\n",
    "* No desenvolvimento da aplicação deverá ter em atenção o seguinte:\n",
    "    - A aplicação terá uma variável interna para guardar uma lista de números;\n",
    "    - Na opção 1, deverá ser criada uma lista de números aleatórios entre 1 e 100 que será guardada na variável interna;\n",
    "    - Na opção 2, deverá ser criada uma lista com números introduzidos pelo utilizador, que será guardada na variável interna;\n",
    "    - Nestas primeiras opções, se a variável interna já tiver uma lista, esta será sobreposta/apagada pela nova lista;\n",
    "    - Na opção 3, será calculada a soma dos elementos na lista no momento;\n",
    "    - Na opção 4, será calculada a média dos elementos na lista no momento;\n",
    "    - Na opção 5, será calculado o maior elemento da lista no momento;\n",
    "    - Na opção 6, será calculado o menor elemento da lista no momento;\n",
    "    - Na opção 7, a aplicação deverá indicar (Sim/Não) se a lista está ordenada por ordem crescente;\n",
    "    - Na opção 8, a aplicação deverá indicar (Sim/Não) se a lista está ordenada por ordem decrescente;\n",
    "    - Na opção 9, a aplicação irá procurar um elemento na lista, se o encontrar deverá devolver a sua posição, devolverá -1 se o elemento não estiver na lista;\n",
    "    - Se o utilizador selecionar a opção 0, a aplicação deverá terminar mostrando a lista que está nesse momento guardada."
   ]
  },
  {
   "cell_type": "code",
   "execution_count": 6,
   "id": "c9d7fe81",
   "metadata": {},
   "outputs": [
    {
     "name": "stdout",
     "output_type": "stream",
     "text": [
      "Menu\n",
      "Escolha a opção:\n",
      "(1)Criar Lista\n",
      "(2)Ler Lista\n",
      "(3)Soma\n",
      "(4)Média\n",
      "(5)Maior\n",
      "(6)Menor\n",
      "(7)Está ordenada por ordem crescente\n",
      "(8)Está ordenada por ordem decrescente\n",
      "(9)Procura um elemento\n",
      "(0)Sair\n"
     ]
    },
    {
     "name": "stdout",
     "output_type": "stream",
     "text": [
      "[1, 2, 3]\n",
      "Menu\n",
      "Escolha a opção:\n",
      "(1)Criar Lista\n",
      "(2)Ler Lista\n",
      "(3)Soma\n",
      "(4)Média\n",
      "(5)Maior\n",
      "(6)Menor\n",
      "(7)Está ordenada por ordem crescente\n",
      "(8)Está ordenada por ordem decrescente\n",
      "(9)Procura um elemento\n",
      "(0)Sair\n",
      "6\n",
      "Menu\n",
      "Escolha a opção:\n",
      "(1)Criar Lista\n",
      "(2)Ler Lista\n",
      "(3)Soma\n",
      "(4)Média\n",
      "(5)Maior\n",
      "(6)Menor\n",
      "(7)Está ordenada por ordem crescente\n",
      "(8)Está ordenada por ordem decrescente\n",
      "(9)Procura um elemento\n",
      "(0)Sair\n",
      "2.0\n",
      "Menu\n",
      "Escolha a opção:\n",
      "(1)Criar Lista\n",
      "(2)Ler Lista\n",
      "(3)Soma\n",
      "(4)Média\n",
      "(5)Maior\n",
      "(6)Menor\n",
      "(7)Está ordenada por ordem crescente\n",
      "(8)Está ordenada por ordem decrescente\n",
      "(9)Procura um elemento\n",
      "(0)Sair\n",
      "3\n",
      "Menu\n",
      "Escolha a opção:\n",
      "(1)Criar Lista\n",
      "(2)Ler Lista\n",
      "(3)Soma\n",
      "(4)Média\n",
      "(5)Maior\n",
      "(6)Menor\n",
      "(7)Está ordenada por ordem crescente\n",
      "(8)Está ordenada por ordem decrescente\n",
      "(9)Procura um elemento\n",
      "(0)Sair\n",
      "1\n",
      "Menu\n",
      "Escolha a opção:\n",
      "(1)Criar Lista\n",
      "(2)Ler Lista\n",
      "(3)Soma\n",
      "(4)Média\n",
      "(5)Maior\n",
      "(6)Menor\n",
      "(7)Está ordenada por ordem crescente\n",
      "(8)Está ordenada por ordem decrescente\n",
      "(9)Procura um elemento\n",
      "(0)Sair\n",
      "sim\n",
      "[1, 2, 3]\n",
      "Obrigada, volte sempre!\n"
     ]
    }
   ],
   "source": [
    "from random import randint\n",
    "menu = (\"Menu\\nEscolha a opção:\\n(1)Criar Lista\\n(2)Ler Lista\\n(3)Soma\\n(4)Média\\n(5)Maior\\n(6)Menor\\n(7)Está ordenada por ordem crescente\\n(8)Está ordenada por ordem decrescente\\n(9)Procura um elemento\\n(0)Sair\")\n",
    "print(menu)\n",
    "lista = []\n",
    "programa = True\n",
    "while programa == True:\n",
    "    N = int(input(\"escolha um número do menu: \"))\n",
    "    if N == 0:\n",
    "        print(lista)\n",
    "        print(\"Obrigada, volte sempre!\")\n",
    "        programa = False\n",
    "    elif N == 1:\n",
    "        lista.clear()\n",
    "        n = int(input(\"escolha o tamanho da lista\"))\n",
    "        while n > 0:\n",
    "            lista.append(randint(0,101))\n",
    "            n = n - 1\n",
    "        print(lista)\n",
    "        print(menu)\n",
    "    elif N == 2:\n",
    "        lista.clear()\n",
    "        tamanho = int(input(\"escolha o tamanho da lista\"))\n",
    "        while tamanho > 0:\n",
    "            e = int(input(\"introduza os números \"))\n",
    "            lista.append(e)\n",
    "            tamanho = tamanho - 1\n",
    "        print(lista)\n",
    "        print(menu)\n",
    "    elif N == 3:\n",
    "        soma = 0\n",
    "        for i in lista:\n",
    "            soma = soma + i\n",
    "        print(soma)\n",
    "        print(menu)\n",
    "    elif N == 4:\n",
    "        soma1 = 0\n",
    "        media = 0 \n",
    "        divisor=len(lista)\n",
    "        for i in lista:\n",
    "            soma1 = soma1 + i \n",
    "            media = soma1 / divisor \n",
    "        print(media)\n",
    "        print(menu)\n",
    "    elif N == 5:\n",
    "        maior = lista[0]\n",
    "        for i in lista[1:]:\n",
    "            if i > maior:\n",
    "                maior = i \n",
    "        print(maior)\n",
    "        print(menu)\n",
    "    elif N == 6:\n",
    "        menor = lista[0]\n",
    "        for i in lista[1:]:\n",
    "            if i < menor:\n",
    "                menor = i \n",
    "        print(menor)\n",
    "        print(menu)\n",
    "    elif N == 7:\n",
    "        listacopiada = lista.copy()\n",
    "        listacopiada.sort()\n",
    "        if listacopiada == lista:\n",
    "            print(\"sim\")\n",
    "        else:\n",
    "            print(\"não\")\n",
    "    elif N == 8:\n",
    "        listacopiada = lista.copy()\n",
    "        listacopiada.sort(reverse=True)\n",
    "        if listacopiada == lista:\n",
    "            print(\"sim\")\n",
    "        else:\n",
    "            print(\"não\")\n",
    "    if N == 9:\n",
    "        p = int(input(\"Determine o elemento que procura \"))\n",
    "        if p in lista:\n",
    "            print(\"A posição do número é {}\" .format(lista.index(n)))\n",
    "        else:\n",
    "            print(\"O elemento que escolheu não está na lista \")\n",
    "        print(menu)\n",
    "\n",
    "        \n",
    "\n"
   ]
  }
 ],
 "metadata": {
  "kernelspec": {
   "display_name": "Python 3.9.1 64-bit",
   "language": "python",
   "name": "python3"
  },
  "language_info": {
   "codemirror_mode": {
    "name": "ipython",
    "version": 3
   },
   "file_extension": ".py",
   "mimetype": "text/x-python",
   "name": "python",
   "nbconvert_exporter": "python",
   "pygments_lexer": "ipython3",
   "version": "3.11.0"
  },
  "vscode": {
   "interpreter": {
    "hash": "aee8b7b246df8f9039afb4144a1f6fd8d2ca17a180786b69acc140d282b71a49"
   }
  }
 },
 "nbformat": 4,
 "nbformat_minor": 5
}
