{
 "cells": [
  {
   "cell_type": "markdown",
   "id": "1e545158",
   "metadata": {},
   "source": [
    "# Aula Prática 5 (guião)\n",
    "### Semana de 9 a 13 de Outubro de 2023\n",
    "### José Carlos Ramalho e Luís Cunha\n",
    "### Sinopsis:\n",
    "Algoritmos e modelação de problemas com listas e listas de listas."
   ]
  },
  {
   "cell_type": "markdown",
   "id": "1d9c2fbc",
   "metadata": {},
   "source": [
    "### Exercício 1 (repescado): estaOrdenada\n",
    "- Defina uma função que recebe uma lista de números e verifica se a mesma está ordenada por ordem crescente dando como resultado um valor **True** ou **False**."
   ]
  },
  {
   "cell_type": "code",
   "execution_count": 3,
   "id": "fb44546a",
   "metadata": {},
   "outputs": [
    {
     "name": "stdout",
     "output_type": "stream",
     "text": [
      "False True\n"
     ]
    }
   ],
   "source": [
    "# Solução do exercício 1\n",
    "def estaOrdenada(lista):\n",
    "    res = True\n",
    "    for i in range(1,len(lista)):\n",
    "        if lista[i-1] > lista[i]:\n",
    "            res = False\n",
    "    return res\n",
    "listaA = [2,7,5,6,8]\n",
    "listaB = [2,5,6,7,8]\n",
    "print(estaOrdenada(listaA), estaOrdenada(listaB))"
   ]
  },
  {
   "cell_type": "markdown",
   "id": "274abafd",
   "metadata": {},
   "source": [
    "### Exercício 2: ordenaLista\n",
    "\n",
    "* Defina uma função que recebe uma lista de números e que dá como resultado uma nova lista ordenada de forma crescente: pode usar o método _sort_, mas se o fizer implemente uma segunda solução recorrendo a um ciclo _while_."
   ]
  },
  {
   "cell_type": "code",
   "execution_count": 5,
   "id": "368aa7cd",
   "metadata": {},
   "outputs": [
    {
     "name": "stdout",
     "output_type": "stream",
     "text": [
      "[2, 4, 5, 6]\n"
     ]
    }
   ],
   "source": [
    "# Solução do exercício 2\n",
    "def ordenaLista(lista):\n",
    "    for i in range(1,len(lista)):\n",
    "        if lista[i-1] > lista[i]:\n",
    "            lista[i-1], lista[i] = lista[i], lista[i-1]\n",
    "    return lista\n",
    "\n",
    "listaA = [2,5,4,6]\n",
    "print(ordenaLista(listaA))"
   ]
  },
  {
   "cell_type": "code",
   "execution_count": 6,
   "id": "165f5055",
   "metadata": {},
   "outputs": [
    {
     "name": "stdout",
     "output_type": "stream",
     "text": [
      "[2, 4, 5, 6]\n"
     ]
    }
   ],
   "source": [
    "def ordenaLista(lista):\n",
    "    i = 1\n",
    "    while i < len(lista):\n",
    "        if lista[i-1] > lista[i]:\n",
    "            lista[i-1], lista[i] = lista[i], lista[i-1]\n",
    "        i = i + 1\n",
    "    return lista\n",
    "\n",
    "listaA = [2,5,4,6]\n",
    "print(ordenaLista(listaA))"
   ]
  },
  {
   "cell_type": "markdown",
   "id": "bb2a82e2",
   "metadata": {},
   "source": [
    "### Exercício 3: Parques de estacionamento do Continente\n",
    "\n",
    "Foste encarregado de criar uma pequena aplicação para gerir os parques de estacionamento do Continente (aqueles inteligentes que têm uma luzinha a indicar se o lugar está livre ou ocupado). \n",
    "\n",
    "Considera que cada lugar num parque é identificado por um número inteiro. \n",
    "Um parque é definido pelo seu nome, o número de lugares que tem disponíveis e uma lista dos lugares que se encontram ocupados no momento.\n",
    "\n",
    "Considera a seguinte sugestão para o modelo dos parques:\n",
    "```\n",
    "Parques = [Parque]\n",
    "Parque = [nlugares, ocupados, nome]\n",
    "nlugares = Int\n",
    "ocupados = [lugar]\n",
    "nome = String\n",
    "lugar = Int\n",
    "```\n",
    "Que poderá ser usado num programa da seguinte forma:\n",
    "```\n",
    "p1 = [600, [], \"P1\"]\n",
    "p2 = [1500, [], \"P2\"]\n",
    "parques = []\n",
    "...\n",
    "parques = inserirParque(parques, p1)\n",
    "parques = inserirParque(parques ,p2)\n",
    "...\n",
    "listar(parques)\n",
    "...\n",
    "if(disponivel( parques, \"P1\", 23 ):\n",
    "    parques = estaciona( parques, \"P1\", 23 );\n",
    "...\n",
    "listardisponibilidades(parques);\n",
    "...\n",
    "```\n",
    "Especifique as funções utilizadas no exemplo:\n",
    "\n",
    "1. `inserirParque( listap, p )` - que insere o parque `p` na lista de parques;\n",
    "2. `listar( listap )` - que lista no monitor todos os parques disponíveis juntamente com a sua informação: nome e número de lugares;\n",
    "3. `disponivel( listap, nomep, lugar )` - que dá como resultado **False** se o lugar **lugar** já estiver ocupado nesse parque e **True** caso contrário;\n",
    "4. `estaciona( listap, nomep, lugar)` - que dá como resultado um novo sistema de parques após a entrada de um carro no parque de nome **nomep** e que estacionou no lugar **lugar**;\n",
    "5. `listardisponibilidades( listap )` - que lista no monitor o nome de todos parques activos juntamente com o número de lugares disponíveis em cada um;\n",
    "6. `listarP(listap, nomep)` - que lista no monitor a informação do parque, nome, lugares e lista de ocupados;\n",
    "7. `libertaLugar(listap, nomep, lugar)` - que retira **lugar** da lista de lugares ocupados do respetivo parque;\n",
    "8. `criaParque(listap, nomep, lugares)` - que acrescenta um novo parque à lista de parques, devolvendo uma nova lista;\n",
    "9. `removeParque(listap, nomep)` - que remove o parque da lista, se a lista de lugares ocupados estiver vazia;\n",
    "10. Especifique uma aplicação, com estas opções e outras que façam sentido, para fazer a gestão dos parques: a aplicação deverá ter um menu de opções e ciclicamente executará as operações selecionadas pelo utilizador até este selecionar a opção de terminar (as funções acima indicadas são os construtoes do modelo, precisam de parâmetros, devem ser encapsuladas em funções que lêem esses parâmetros).  "
   ]
  },
  {
   "cell_type": "code",
   "execution_count": null,
   "id": "4c10ae94",
   "metadata": {},
   "outputs": [],
   "source": [
    "# Solução do exercício 3\n",
    "# ----------------------\n",
    "# Modelo:\n",
    "#   Parques = [Parque]\n",
    "#   Parque = [nlugares, ocupados, nome]\n",
    "#   nlugares = Int\n",
    "#   ocupados = [lugar]\n",
    "#   nome = String\n",
    "#   lugar = Int\n",
    "\n",
    "def inserirParque( listap, p ):\n",
    "    listap.append(p)\n",
    "    return listap\n",
    "\n",
    "def listar( listap ):\n",
    "    print(\"Nome    NúmeroLugares    Ocupados\")\n",
    "    print(\"_________________________________\")\n",
    "    for p in listap:\n",
    "        nlugares, ocupados, nome = p\n",
    "        print(nome, nlugares, nlugares-len(ocupados))\n",
    "\n",
    "def disponivel( listap, nomep, lugar ):\n",
    "    res = True \n",
    "    for p in listap:\n",
    "        nlugares, ocupados, nome = p\n",
    "        if nomep == nome:\n",
    "            if lugar in ocupados:\n",
    "                res = False\n",
    "    return res\n",
    "\n",
    "def estaciona( listap, nomep, lugar):\n",
    "    for p in listap:\n",
    "        nlugares, ocupados, nome = p\n",
    "        if nomep == nome:\n",
    "            ocupados.append(lugar)\n",
    "    return listap\n",
    "\n",
    "\n",
    "def listardisponibilidades( listap ):\n",
    "    for p in listap:\n",
    "        nlugares, ocupados, nome = p\n",
    "        disponiveis = nlugares - len(ocupados)\n",
    "        print(\"o parque\",nome, \"tem\", disponiveis, \"disponiveis\")\n",
    "    return listap\n",
    "\n",
    "\n",
    "def listarP(listap, nomep):\n",
    "    for p in listap:\n",
    "        nlugares, ocupados, nome = p\n",
    "        if nomep == nome:\n",
    "            print(\"o parque\", nomep, \"tem ocupados\", ocupados, \"lugares\")\n",
    "    return listap\n",
    "\n",
    "\n",
    "def libertaLugar(listap, nomep, lugar):\n",
    "    for p in listap:\n",
    "        nlugares, ocupados, nome = p\n",
    "        if nomep == nome:\n",
    "            listap.remove(lugar)\n",
    "    return listap\n",
    "\n",
    "\n",
    "def criaParque(listap, nomep, lugares):\n",
    "    parque=[lugares,[],nomep]\n",
    "    listap.append(parque)\n",
    "    return listap\n",
    "\n",
    "\n",
    "def removeParque(listap, nomep):\n",
    "    for p in listap:\n",
    "        nlugares,ocupados,nome=p\n",
    "        if nomep==nome:\n",
    "            if ocupados==[]:\n",
    "                listap.remove(p)\n",
    "    return listap\n",
    "\n",
    "\n",
    "def menu():\n",
    "    print(\"\"\" \n",
    "    (1) Reset\n",
    "    (2) Criar Parque\n",
    "    (3) Remover Parque\n",
    "    (4) Listar Parques\n",
    "    (5) Consulta Parque \n",
    "    ...\n",
    "    (0) Sair\n",
    "    \"\"\")\n"
   ]
  },
  {
   "cell_type": "code",
   "execution_count": null,
   "id": "002208d4",
   "metadata": {},
   "outputs": [],
   "source": [
    "# ---------------------------------------\n",
    "# Teste às funções\n",
    "# ---------------------------------------\n",
    "\n",
    "p1 = (600, [], \"P1\")\n",
    "p2 = (1500, [], \"P2\")\n",
    "parques = []\n",
    "parques = inserirParque(parques, p1)\n",
    "parques = inserirParque(parques ,p2)\n",
    "listar(parques)\n",
    "print(disponivel(parques, \"P2\", 67))\n",
    "for j in range(1,101):\n",
    "    parques = estaciona(parques, \"P1\", j*2)\n",
    "listar(parques)\n",
    "print(parques[0])"
   ]
  },
  {
   "cell_type": "code",
   "execution_count": null,
   "id": "04d4cc18",
   "metadata": {},
   "outputs": [],
   "source": [
    "# Aplicação para gerir parques\n",
    "opcao = 1\n",
    "while opcao != '0':\n",
    "    menu()\n",
    "    opcao = input(\"Introduza uma opção: \")\n",
    "    \n"
   ]
  },
  {
   "cell_type": "markdown",
   "id": "212a8b18",
   "metadata": {},
   "source": [
    "### Exercício 4: splitLista\n",
    "\n",
    "* Defina uma função que recebe uma lista de números e um número e que dá como resultado uma lista com dois elementos, o primeiro elemento é uma lista com os números menores ou iguais ao número passado como argumento, e o segundo elemento é uma lista com os maiores."
   ]
  },
  {
   "cell_type": "code",
   "execution_count": 1,
   "id": "c7a21191",
   "metadata": {},
   "outputs": [
    {
     "data": {
      "text/plain": [
       "([1, 2, 3], [4, 5])"
      ]
     },
     "execution_count": 1,
     "metadata": {},
     "output_type": "execute_result"
    }
   ],
   "source": [
    "# Solução do exercício 4\n",
    "def splitLista(lista,n):\n",
    "    lista1 = []\n",
    "    lista2 = []\n",
    "    for elem in lista:\n",
    "        if elem <= n:\n",
    "            lista1.append(elem)\n",
    "        else:\n",
    "            lista2.append(elem) \n",
    "    return(lista1,lista2)\n",
    "\n",
    "splitLista([1,2,3,4,5],3)"
   ]
  },
  {
   "cell_type": "markdown",
   "id": "caf54e37",
   "metadata": {},
   "source": [
    "### Exercício 5: mergeListas\n",
    "\n",
    "* Defina uma função que recebe duas listas de números ordenadas e dá como resultado uma nova lista ordenada com os elementos das duas listas."
   ]
  },
  {
   "cell_type": "code",
   "execution_count": 3,
   "id": "444f1f0f",
   "metadata": {},
   "outputs": [
    {
     "data": {
      "text/plain": [
       "[1, 2, 3, 4, 5, 6, 7, 8, 9]"
      ]
     },
     "execution_count": 3,
     "metadata": {},
     "output_type": "execute_result"
    }
   ],
   "source": [
    "# Solução do exercício 5\n",
    "def merge(l1,l2):\n",
    "    res = []\n",
    "    while len(l1) > 0 and len(l2) > 0:\n",
    "        if l1[0] < l2[0]:\n",
    "            res.append(l1[0])\n",
    "            l1 = l1[1:]\n",
    "        else:\n",
    "            res.append(l2[0])\n",
    "            l2 = l2[1:]\n",
    "    res = res + l1 + l2\n",
    "    return res\n",
    "merge([1,2,3,4,5],[6,7,8,9])"
   ]
  },
  {
   "cell_type": "markdown",
   "id": "4193a91b",
   "metadata": {},
   "source": [
    "### TPC5: Aplicação para Gerir um Cinema\n",
    "\n",
    "Suponha que está a desenvolver uma aplicacão para gestão de um conjunto de salas de cinema de um centro comercial. \n",
    "Nesse centro comercial existem algumas salas de cinema (que poderão estar a exibir filmes ou não), cada sala tem uma determinada \n",
    "lotação, uma lista com a referência dos bilhetes vendidos (lugares ocupados; cada lugar é identificado por um número inteiro), e cada sala tem um filme associado.\n",
    "\n",
    "Considera a seguinte sugestão para o modelo dos cinemas:\n",
    "```\n",
    "Cinema = [Sala]\n",
    "Sala = [nlugares, Vendidos, filme]\n",
    "nlugares = Int\n",
    "filme = String \n",
    "Vendidos = [Int]\n",
    "```\n",
    "  \n",
    "Que poderá ser usado num programa da seguinte forma:\n",
    "```\n",
    "sala1 = (150, [], \"Twilight\")\n",
    "sala2 = (200, [], \"Hannibal\")\n",
    "cinema1 = []\n",
    "...\n",
    "cinema1 = inserirSala(cinema1,sala1)\n",
    "cinema1 = inserirSala(cinema1,sala2)\n",
    "...\n",
    "listar(cinema1)\n",
    "...\n",
    "\n",
    "if(disponivel(cinema1, \"Twilight\", 17 )):\n",
    "  cinema1 = vendebilhete(cinema1, \"Twilight\", 17 )\n",
    "...\n",
    "listardisponibilidades(cinema1)\n",
    "...\n",
    "```\n",
    "\n",
    "Especifique as funções utilizadas no exemplo:\n",
    "\n",
    "1. `listar( cinema )` - que lista no monitor todos os filmes que estão em exibição nas salas do cinema passado como argumento;\n",
    "2. `disponivel( cinema, filme, lugar )` - que dá como resultado **False** se o lugar lugar já estiver ocupado na sala onde o filme está a ser exibido e dará como resultado **True** se o inverso acontecer;\n",
    "3. `vendebilhete( cinema, filme, lugar )` - que dá como resultado um novo cinema resultante de acrescentar o lugar à lista dos lugares ocupados, na sala onde está a ser exibido o filme;\n",
    "4. `listardisponibilidades( cinema )` - que, para um dado cinema, lista no monitor para cada sala, o filme que está a ser exibido e o total de lugares disponíveis nessa sala (número de lugares na sala menos o número de lugares ocupados);\n",
    "5. `inserirSala( cinema, sala )` - que acrescenta uma sala nova a um cinema (devendo verificar se a sala já existe);\n",
    "6. Acrescente todas as outras funcionalidades que achar necessárias;\n",
    "7. À semelhança do exercício 3, construa uma aplicação com um menu de interface para as operações.\n"
   ]
  },
  {
   "cell_type": "code",
   "execution_count": null,
   "id": "2e6c7ed7",
   "metadata": {},
   "outputs": [],
   "source": [
    "import time \n",
    "cinemas = []\n",
    "\n",
    "def listar(cinema):\n",
    "    print(\"Filme  Salas\")\n",
    "    print(\"_________________________________\")\n",
    "    for sala in cinema:\n",
    "        nlugares, vendidos, filme = sala\n",
    "        print(\"Sala#{0}\".format(cinema.index(sala)), \" \", filme)\n",
    "    time.sleep(1)\n",
    "    menu()\n",
    "\n",
    "def disponivel(cinema,filme,lugar):\n",
    "    res = True\n",
    "    for sala in cinema:\n",
    "        nlugares, vendidos, nome = sala\n",
    "        if filme == nome:\n",
    "            if lugar in vendidos:\n",
    "                res = False\n",
    "            else:\n",
    "                res = True\n",
    "        else:\n",
    "            res = False\n",
    "    return res \n",
    "\n",
    "def vendeBilhete(cinema, filme, lugar):\n",
    "    if disponivel(cinema,filme,lugar):\n",
    "        for sala in cinema:\n",
    "            nlugares, vendidos, nome = sala\n",
    "            if filme == nome:\n",
    "                vendidos.append(lugar)\n",
    "        print(\"Lugar vendido!\")\n",
    "        print(\"Salas\", cinema)\n",
    "    else:\n",
    "        print(\"Lugar indisponivel!\")\n",
    "    menu()\n",
    "\n",
    "def listardisponibilidadedes(cinema):\n",
    "    print(\"Sala    Filme    Lugares disponiveis\")\n",
    "    print(\"------------------\")\n",
    "    for sala in cinema:\n",
    "        nlugares, vendidos, filme = sala\n",
    "        print(\"Sala#{0}\".format(cinema.index(sala)), \" \", filme, \" \", nlugares - len(vendidos))\n",
    "    time.sleep(1)\n",
    "    menu()\n",
    "        \n",
    "def inserirsala(cinema):\n",
    "    filme = input(\"Introduza o nome do filme:\")\n",
    "    for s in cinema:\n",
    "        nlugares, vendidos, nome = s\n",
    "        if nome == filme:\n",
    "            print(\"o filme já existe\")\n",
    "            menu()\n",
    "    nlugares = int(input(\"Introduza o número de lugares da sala:\"))\n",
    "    vendidos = []\n",
    "    cinema.append((nlugares, vendidos, filme))\n",
    "    print(\"A sala foi criada!\")\n",
    "    print(\"salas:\", cinema)\n",
    "    menu()\n",
    "\n",
    "def removersala(cinema):\n",
    "    index = int(input(\"Introduza o indice da sala:\"))\n",
    "    cinema.pop(index)\n",
    "    print(\"Sala removida!\")\n",
    "    print(\"Salas:\", cinema)\n",
    "    menu()\n",
    "\n",
    "def menu():\n",
    "    print(\"\"\"\n",
    "    (1) Criar sala\n",
    "    (2) Remover sala\n",
    "    (3) Listar salas\n",
    "    (4) Lugar disponivel\n",
    "    (5) Vender bilhete\n",
    "    (6) Consultar salas\n",
    "    (0) Sair/reset\n",
    "    \"\"\")\n",
    "    menuOption = int(input(\"Escolha uma funcao:\"))\n",
    "    if menuOption == 1:\n",
    "        inserirsala(cinemas)\n",
    "    elif menuOption == 2:\n",
    "        removersala(cinemas)\n",
    "    elif menuOption == 3:\n",
    "        listar(cinemas)\n",
    "    elif menuOption == 4:\n",
    "        filme = input(\"Introduza o nome do filme:\")\n",
    "        lugar = int(input(\"Introduza o lugar:\"))\n",
    "        print(\"Lugar disponivel?\", disponivel(cinemas, filme, lugar))\n",
    "    elif menuOption == 5:\n",
    "        filme = input(\"Introduza o nome do filme:\")\n",
    "        lugar = int(input(\"Introduza o lugar:\"))\n",
    "        vendeBilhete(cinemas, filme, lugar)\n",
    "    elif menuOption == 6:\n",
    "        listardisponibilidadedes(cinemas)\n",
    "    elif menuOption == 0:\n",
    "        print(\"Saíada efetuada!\")\n",
    "        print(\"Salas:\", cinemas)\n",
    "        \n",
    "menu()"
   ]
  }
 ],
 "metadata": {
  "kernelspec": {
   "display_name": "Python 3.9.1 64-bit",
   "language": "python",
   "name": "python3"
  },
  "language_info": {
   "codemirror_mode": {
    "name": "ipython",
    "version": 3
   },
   "file_extension": ".py",
   "mimetype": "text/x-python",
   "name": "python",
   "nbconvert_exporter": "python",
   "pygments_lexer": "ipython3",
   "version": "3.11.0"
  },
  "vscode": {
   "interpreter": {
    "hash": "aee8b7b246df8f9039afb4144a1f6fd8d2ca17a180786b69acc140d282b71a49"
   }
  }
 },
 "nbformat": 4,
 "nbformat_minor": 5
}
