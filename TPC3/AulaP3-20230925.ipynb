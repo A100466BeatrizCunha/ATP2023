{
 "cells": [
  {
   "cell_type": "markdown",
   "id": "1e545158",
   "metadata": {},
   "source": [
    "# Aula Prática 2 (guião)\n",
    "### Semana de 26 a 30 de Setembro de 2022\n",
    "### José Carlos Ramalho e Luís Cunha\n",
    "### Sinopsis:\n",
    "Algoritmos de cálculo numérico envolvendo estruturas condicionais (if-elif-else) e cíclicas (while)."
   ]
  },
  {
   "cell_type": "markdown",
   "id": "e38d18c4-d7d7-4fea-9bc6-e3f3c903386b",
   "metadata": {},
   "source": [
    "### Exercício 1: Soma de N números\n",
    "- Leia um número N;\n",
    "- Leia N números;\n",
    "- Imprima a soma dos N números."
   ]
  },
  {
   "cell_type": "code",
   "execution_count": 1,
   "id": "af973146-3bb4-4fa8-ba6c-b887b79ccff8",
   "metadata": {},
   "outputs": [
    {
     "name": "stdout",
     "output_type": "stream",
     "text": [
      "4\n"
     ]
    }
   ],
   "source": [
    "# Solução do exercício 1\n",
    "N = int(input(\"Introduza um número n: \"))\n",
    "soma = 0\n",
    "while N != 0:\n",
    "    n = int(input(\"Introduza um número n: \"))\n",
    "    soma += n\n",
    "    N = N - 1\n",
    "print(soma)\n"
   ]
  },
  {
   "cell_type": "markdown",
   "id": "13b62657",
   "metadata": {},
   "source": [
    "### Exercício 1.5: Números pares\n",
    "- Leia um número N;\n",
    "- Leia N números;\n",
    "- Imprima os números pares na saída."
   ]
  },
  {
   "cell_type": "code",
   "execution_count": 2,
   "id": "ec6d1b7f",
   "metadata": {},
   "outputs": [
    {
     "name": "stdout",
     "output_type": "stream",
     "text": [
      "[2, 4]\n"
     ]
    }
   ],
   "source": [
    "# Solução do exercício 1.5\n",
    "N = int(input(\"Introduza um número n: \"))\n",
    "lista = []\n",
    "while N != 0:\n",
    "    n = int(input(\"Introduza um número n: \"))\n",
    "    N = N - 1\n",
    "    if n%2 == 0:\n",
    "        lista.append(n)\n",
    "print(lista)"
   ]
  },
  {
   "cell_type": "markdown",
   "id": "bdcbffb0",
   "metadata": {},
   "source": [
    "### Exercício 2: O Maior de N números\n",
    "- Leia um número N;\n",
    "- Leia N números;\n",
    "- Imprima o maior dos N números."
   ]
  },
  {
   "cell_type": "code",
   "execution_count": 3,
   "id": "af973146-3bb4-4fa8-ba6c-b887b79ccff8",
   "metadata": {},
   "outputs": [
    {
     "name": "stdout",
     "output_type": "stream",
     "text": [
      "3\n"
     ]
    }
   ],
   "source": [
    "# Solução do exercício 2\n",
    "N = int(input(\"Introduza um número n: \"))\n",
    "maior = 0\n",
    "while N != 0:\n",
    "    n = int(input(\"Introduza um número n: \"))\n",
    "    N = N - 1\n",
    "    if n > maior:\n",
    "        maior = n\n",
    "print(maior)"
   ]
  },
  {
   "cell_type": "markdown",
   "id": "bdcbffb0",
   "metadata": {},
   "source": [
    "### Exercício 3: O Menor de N números\n",
    "- Leia um número N;\n",
    "- Leia N números;\n",
    "- Imprima o menor dos N números."
   ]
  },
  {
   "cell_type": "code",
   "execution_count": 12,
   "id": "64ad6f7b",
   "metadata": {},
   "outputs": [
    {
     "name": "stdout",
     "output_type": "stream",
     "text": [
      "1\n"
     ]
    }
   ],
   "source": [
    "# Solução do exercício 3\n",
    "N = int(input(\"Introduza um número n: \"))\n",
    "contador = 0\n",
    "while contador < N:\n",
    "    n = int(input(\"Introduza um número n: \"))\n",
    "    if n < menor:\n",
    "        menor = n\n",
    "    contador += 1\n",
    "print(menor)"
   ]
  },
  {
   "cell_type": "markdown",
   "id": "bdcbffb0",
   "metadata": {},
   "source": [
    "### Exercício 4: A Média de N números\n",
    "- Leia um número N;\n",
    "- Leia N números;\n",
    "- Imprima a média dos N números."
   ]
  },
  {
   "cell_type": "code",
   "execution_count": 9,
   "id": "a6c32b2e",
   "metadata": {},
   "outputs": [
    {
     "name": "stdout",
     "output_type": "stream",
     "text": [
      "2.0\n"
     ]
    }
   ],
   "source": [
    "# Solução do exercício 4\n",
    "N = int(input(\"Introduza um número n: \"))\n",
    "soma = 0\n",
    "media = 0\n",
    "divisor = N\n",
    "while N != 0:\n",
    "    n = int(input(\"Introduza um número n: \"))\n",
    "    soma += n\n",
    "    N = N - 1\n",
    "media = soma/divisor\n",
    "print(media)\n"
   ]
  },
  {
   "cell_type": "markdown",
   "id": "46a52784",
   "metadata": {},
   "source": [
    "### Exercício 5: Potência\n",
    "- Defina uma função **pot** que recebe dois parâmetros, **a** e **b**, e retorna o resultado de **a elevado à potência de b**.\n",
    "- Use esta função para escrever no monitor as potências de 2 com expoentes de 1 a 20."
   ]
  },
  {
   "cell_type": "code",
   "execution_count": 7,
   "id": "73ebf338",
   "metadata": {},
   "outputs": [
    {
     "name": "stdout",
     "output_type": "stream",
     "text": [
      "1048576\n",
      "524288\n",
      "262144\n",
      "131072\n",
      "65536\n",
      "32768\n",
      "16384\n",
      "8192\n",
      "4096\n",
      "2048\n",
      "1024\n",
      "512\n",
      "256\n",
      "128\n",
      "64\n",
      "32\n",
      "16\n",
      "8\n",
      "4\n",
      "2\n"
     ]
    }
   ],
   "source": [
    "# Solução do exercício 5\n",
    "def pot(a,b):\n",
    "    res = 1\n",
    "    while b > 0:\n",
    "        res = res * a\n",
    "        b = b - 1\n",
    "    print(res)\n",
    "\n",
    "N = 20\n",
    "while N > 0:\n",
    "    pot(2,N)\n",
    "    N = N - 1\n",
    "    \n"
   ]
  },
  {
   "cell_type": "markdown",
   "id": "a09b4add",
   "metadata": {},
   "source": [
    "### Exercício 6: Divisão inteira\n",
    "- Defina uma função **divisao** que recebe dois parâmetros **a** e **b** e retorna o resultado da **divisão inteira de a por b** (neste exercício não poderá usar as operações de divisão '/' e do resto '%')."
   ]
  },
  {
   "cell_type": "code",
   "execution_count": 14,
   "id": "36dbd5aa",
   "metadata": {},
   "outputs": [
    {
     "name": "stdout",
     "output_type": "stream",
     "text": [
      "3\n"
     ]
    }
   ],
   "source": [
    "# Solução do exercício 6\n",
    "def divisao(a,b):\n",
    "    contador = 0\n",
    "    while a >= b:\n",
    "        a = a - b #ver quantas vezes conseguimos tirar o b ao a, e esse número vai ser a divisão inteira\n",
    "        contador = contador + 1\n",
    "    print(contador)\n",
    "divisao(7,2)"
   ]
  },
  {
   "cell_type": "markdown",
   "id": "0490effe",
   "metadata": {},
   "source": [
    "### Exercício 7: Resto\n",
    "- Defina uma função **resto** que recebe dois parâmetros **a** e **b** e retorna o **resto da divisão inteira de a por b** (neste exercício não poderá usar as operações de divisão '/' e do resto '%')."
   ]
  },
  {
   "cell_type": "code",
   "execution_count": 15,
   "id": "3fea0e05",
   "metadata": {},
   "outputs": [
    {
     "data": {
      "text/plain": [
       "1"
      ]
     },
     "execution_count": 15,
     "metadata": {},
     "output_type": "execute_result"
    }
   ],
   "source": [
    "# Solução do exercício 7\n",
    "def divInteira(a,b):\n",
    "    while a >= b:\n",
    "        a = a - b\n",
    "    return a\n",
    "divInteira(7,2)"
   ]
  },
  {
   "cell_type": "markdown",
   "id": "d11cdd11",
   "metadata": {},
   "source": [
    "### Exercício 8: Série numérica\n",
    "- Defina uma função **serie** que recebe três parâmetros, **base**, **salto** e **nelems**, e escreve no monitor a série;\n",
    "- Invocada com: **serie(7, 4, 5)** escreveria: 7, 11, 15, 19, 23"
   ]
  },
  {
   "cell_type": "code",
   "execution_count": 6,
   "id": "7549c7d7",
   "metadata": {},
   "outputs": [],
   "source": [
    "# Solução do exercício 8\n"
   ]
  },
  {
   "cell_type": "markdown",
   "id": "73187e87",
   "metadata": {},
   "source": [
    "### Exercício 9: Desenhar um quadrado\n",
    "- Defina uma função **quad** que recebe um parâmetro, **n**, e desenha no monitor um quadrado usando o caráter '#'."
   ]
  },
  {
   "cell_type": "code",
   "execution_count": 2,
   "id": "a31f8eaf",
   "metadata": {},
   "outputs": [
    {
     "name": "stdout",
     "output_type": "stream",
     "text": [
      "####\n",
      "####\n",
      "####\n",
      "####\n"
     ]
    }
   ],
   "source": [
    "# Solução do exercício 9\n",
    "def quad(n):\n",
    "    n1 = n\n",
    "    n2 = n\n",
    "    while n2 > 0:\n",
    "        while n1 > 0:\n",
    "            print(\"#\", end='')\n",
    "            n1 = n1 - 1\n",
    "        print('')\n",
    "        n2 = n2 - 1\n",
    "        n1 = n\n",
    "quad(4)"
   ]
  },
  {
   "cell_type": "markdown",
   "id": "f4e2bc84",
   "metadata": {},
   "source": [
    "### Exercício 10: Índice de Massa Corporal\n",
    "- Defina uma função **imc** que recebe dois parâmetros, **peso**,**altura**, calcula o IMC corresponente e interpreta esse resultado.\n",
    "- imc(53,1.56) - Output: \"O seu índice de massa corporal é **21.78** e encontra-se na categoria **Normal**\"\n",
    "- imc(83,1.56) - Output: \"O seu índice de massa corporal é **34.11** e encontra-se na categoria **Obesidade grau I**\"\n",
    "\n",
    "Valores:\n",
    "- Menor que 18,5 - Baixo peso\n",
    "- 18,5 a 24,9 - Normal\n",
    "- 25 a 29,9\t- Excesso de peso\n",
    "- 30 a 34,9\t- Obesidade grau I\n",
    "- 35 a 39,9\t- Obesidade grau II\n",
    "- Maior que 40\t- Obesidade grau III"
   ]
  },
  {
   "cell_type": "code",
   "execution_count": 3,
   "id": "2a62004a",
   "metadata": {},
   "outputs": [
    {
     "name": "stdout",
     "output_type": "stream",
     "text": [
      "o imc de uma pessoa com 53kg e 1.56m é de 21.7784352399737 e encontra-se na categoria normal\n",
      "o imc de uma pessoa com 83kg e 1.56m é de 34.10585141354372 e encontra-se na categoria obsidade grau I\n"
     ]
    }
   ],
   "source": [
    "# Solução do exercício 10\n",
    "def imc(peso,altura):\n",
    "    imc = peso / (altura**2)\n",
    "    if imc < 18.5:\n",
    "        categoria = 'baixo de peso'\n",
    "    elif 18.5 <= imc <= 24.9:\n",
    "        categoria = 'normal'\n",
    "    elif 25 <= imc <= 29.9:\n",
    "        categoria = 'excesso de peso'\n",
    "    elif 30 <= imc <= 34.9:\n",
    "        categoria = 'obsidade grau I'\n",
    "    elif 35 <= imc <= 39.9:\n",
    "        categoria = 'obsidade grau II'\n",
    "    elif imc >= 40:\n",
    "        categoria = 'obsidade grau III'\n",
    "    print(f'o imc de uma pessoa com {peso}kg e {altura}m é de {imc} e encontra-se na categoria {categoria}')\n",
    "imc(53,1.56)\n",
    "imc(83,1.56)"
   ]
  },
  {
   "cell_type": "markdown",
   "id": "1cf1b437",
   "metadata": {},
   "source": [
    "## TPC3: Adivinha o número!?\n",
    "\n",
    "Desenvolve em Python o código necessário para o jogo do Adivinha o número: \n",
    "* O jogo deverá ter dois modos: o computador tenta acertar no número que o jogador pensou ou, o jogador tenta acertar no número que o computador pensou; \n",
    "* No fim, o programa deverá indicar quantas tentativas foram realizadas para chegar ao resultado;\n",
    "* O Jogo: \n",
    "    - o utilizador pensa num número entre 0 e 100;\n",
    "    - o computador tenta adivinhar indicando um número do intervalo;\n",
    "    - o utilizador indica se o número em que pensou é **maior**, **menor**, ou se o computador **acertou**;\n",
    "    - ao terminar, o programa imprime o número de tentativas que o computador teve de fazer até chegar ao número.\n",
    "\n",
    "Que conclusão podes tirar sobre o número de tentativas necessárias para um número entre 0 e 100? E se fosse entre 0 e 1000?"
   ]
  },
  {
   "cell_type": "code",
   "execution_count": null,
   "id": "8f823cc6",
   "metadata": {},
   "outputs": [],
   "source": [
    "jogador = int(input(\"escolha a opção 1 para adivinhar e a opção 2 para ser o jogador: \"))\n",
    "import random\n",
    "if jogador == 1: #o computador pensa num numero e o jogador adivinha\n",
    "    C = random.randrange(0,100)\n",
    "    J = int(input(\"qual foi o número que pensei? \"))\n",
    "    tentativas = 0\n",
    "    while C != J:\n",
    "        if C > J:\n",
    "            print(\"o numero que pensei é maior\")\n",
    "        elif C < J:\n",
    "            print(\"o numero que pensei é menor\")\n",
    "        J = int(input(\"qual foi o número que pensei? \"))\n",
    "        tentativas = tentativas + 1\n",
    "    print(\"você acertou ao fim de {} tentativas\".format(tentativas))\n",
    "else:\n",
    "    C = random.randrange(0,100)\n",
    "    J = int(input(C))\n",
    "    tentativas = 0\n",
    "    min = 0\n",
    "    max = 100\n",
    "    while C != J:\n",
    "        if C > J:\n",
    "            max = C\n",
    "            maximo = int(min + ((max - min ) / 2))\n",
    "            C = maximo\n",
    "            print(\"o numero que pensou foi \", C)\n",
    "        elif C < J:\n",
    "            min = C \n",
    "            minimo = int(max - ((max - min) / 2))\n",
    "            C = minimo \n",
    "            print(\"o numero que pensou foi \", C)\n",
    "        J = int(input(\"qual foi o número que pensei? \"))\n",
    "        tentativas = tentativas + 1\n",
    "    print(\"você acertou ao fim de {} tentativas\".format(tentativas))\n",
    "\n",
    "#a forma como o computador adivinha o número utiliza o algoritmo da procura binária, que consiste em dividir sempre o intervalo em metade\n",
    "#a cada tentativa. Assim, o número de tentativas vai ser menor quando o intervalo é de 0-100. Quando o intervalo é de 0-1000 o número de \n",
    "#tentativas é maior, mas devido à eficiência do divisão binária esse número não é muito elevado. \n",
    "\n"
   ]
  }
 ],
 "metadata": {
  "kernelspec": {
   "display_name": "Python 3.9.7 64-bit",
   "language": "python",
   "name": "python3"
  },
  "language_info": {
   "codemirror_mode": {
    "name": "ipython",
    "version": 3
   },
   "file_extension": ".py",
   "mimetype": "text/x-python",
   "name": "python",
   "nbconvert_exporter": "python",
   "pygments_lexer": "ipython3",
   "version": "3.11.0"
  },
  "vscode": {
   "interpreter": {
    "hash": "916dbcbb3f70747c44a77c7bcd40155683ae19c65e1c03b4aa3499c5328201f1"
   }
  }
 },
 "nbformat": 4,
 "nbformat_minor": 5
}
