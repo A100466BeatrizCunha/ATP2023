{
 "cells": [
  {
   "cell_type": "markdown",
   "id": "1e545158",
   "metadata": {},
   "source": [
    "# Aula Prática 7 (guião)\n",
    "### Semana de 23 a 27 de Outubro de 2022\n",
    "### José Carlos Ramalho e Luís Cunha\n",
    "### Sinopsis:\n",
    "Algoritmos e modelação de problemas com armazenamento em memória secundária."
   ]
  },
  {
   "cell_type": "markdown",
   "id": "dcbc2dd4",
   "metadata": {},
   "source": [
    "### Aquecimento: Calcula quantos números inteiros entre 1 e 10000 são múltiplos de 23 e devolve esse número (um múltiplo de 23 é um número que tem 23 como divisor).\n",
    "\n",
    "```\n",
    "def multiplos23():\n",
    "    ... \n",
    "    return ... \n",
    "```"
   ]
  },
  {
   "cell_type": "code",
   "execution_count": 1,
   "id": "20aa947a",
   "metadata": {},
   "outputs": [
    {
     "name": "stdout",
     "output_type": "stream",
     "text": [
      "434\n"
     ]
    }
   ],
   "source": [
    "def multiplos23():\n",
    "    res = []\n",
    "    for n in range(1,10001):\n",
    "        if n % 23 == 0:\n",
    "            res.append(n)\n",
    "    return len(res)\n",
    "\n",
    "print(multiplos23())"
   ]
  },
  {
   "cell_type": "code",
   "execution_count": 5,
   "id": "665575ed",
   "metadata": {},
   "outputs": [
    {
     "name": "stdout",
     "output_type": "stream",
     "text": [
      "434\n"
     ]
    }
   ],
   "source": [
    "def multiplos23():\n",
    "    i = 23\n",
    "    res = 0\n",
    "    while i <= 10000:\n",
    "        i = i + 23\n",
    "        res = res + 1\n",
    "    return res\n",
    "print(multiplos23())"
   ]
  },
  {
   "cell_type": "markdown",
   "id": "c59516f3",
   "metadata": {},
   "source": [
    "### Exercício 1: Considere os seguintes comentários que definem um modelo para guardar os registos de temperatura e precipitação ao longo de vários dias, materializado na variável tabMeteo1:"
   ]
  },
  {
   "cell_type": "code",
   "execution_count": 2,
   "id": "25a06fac",
   "metadata": {},
   "outputs": [],
   "source": [
    "# TabMeteo = [(Data,TempMin,TempMax,Precipitacao)]\n",
    "    # Data = (Int,Int,Int)\n",
    "    # TempMin = Float\n",
    "    # TempMax = Float\n",
    "    # Precipitacao = Float\n",
    "\n",
    "tabMeteo1 = [((2022,1,20), 2, 16, 0),((2022,1,21), 1, 13, 0.2)]"
   ]
  },
  {
   "cell_type": "markdown",
   "id": "7cdf50d5",
   "metadata": {},
   "source": [
    "### 1.a) Calcula a temperatura média de cada dia, dando como resultado uma lista de pares: [(data, temperaturaMédia)]:\n",
    "\n",
    "``` \n",
    "def medias(tabMeteo):\n",
    "    ... \n",
    "    return ... \n",
    "```"
   ]
  },
  {
   "cell_type": "code",
   "execution_count": 4,
   "id": "f8078761",
   "metadata": {},
   "outputs": [
    {
     "name": "stdout",
     "output_type": "stream",
     "text": [
      "[((2022, 1, 20), 9.0), ((2022, 1, 21), 7.0)]\n"
     ]
    }
   ],
   "source": [
    "def medias(tabMeteo):\n",
    "    res = []\n",
    "    for Data, tmin, tmax, prec in tabMeteo:\n",
    "        tmedia = (tmax + tmin)/2\n",
    "        res.append((Data,tmedia))\n",
    "    return res\n",
    "\n",
    "\n",
    "print(medias(tabMeteo1))"
   ]
  },
  {
   "cell_type": "markdown",
   "id": "3b39567d",
   "metadata": {},
   "source": [
    "### 1.b) Define uma função para guardar uma tabela meteorológica num ficheiro de texto."
   ]
  },
  {
   "cell_type": "code",
   "execution_count": 7,
   "id": "45bb1ff7",
   "metadata": {},
   "outputs": [],
   "source": [
    "def guardaTabMeteo(t, fnome):\n",
    "    file = open(fnome,\"w\")\n",
    "    for Data, tmin, tmax, prec in t:\n",
    "        registo = str(Data[0]) + \"-\" + str(Data[1]) + \"-\" + str(Data[2])\n",
    "        registo = registo + \";\" + str(min) + \";\" + str(max) + \";\" + str(prec) + \"\\n\"\n",
    "        file.write(registo)\n",
    "    file.close()   \n",
    "    return\n",
    "guardaTabMeteo(tabMeteo1,\"meteorologia.txt\")"
   ]
  },
  {
   "cell_type": "markdown",
   "id": "60595593",
   "metadata": {},
   "source": [
    "### 1.c) Define uma função para carregar uma tabela meteorológica de um ficheiro de texto."
   ]
  },
  {
   "cell_type": "code",
   "execution_count": null,
   "id": "943e48f6",
   "metadata": {},
   "outputs": [],
   "source": [
    "def carregaTabMeteo(fnome):\n",
    "    file = open(fnome,\"r\")\n",
    "    res = []\n",
    "    for line in file:\n",
    "        line = line.strip()\n",
    "        campos = line.split(\";\")\n",
    "        data = campos[0].split(\"-\")\n",
    "        data = (int(data[0]), int(data[1]), int(data[2]))\n",
    "        tmin = float(campos[1])\n",
    "        tmax = float(campos[2])\n",
    "        prec = float(campos[3])\n",
    "        res.append((data,tmin,tmax,prec))\n",
    "        \n",
    "    file.close()\n",
    "    return res \n",
    "\n",
    "print(carregaTabMeteo(\"mateorologia.txt\"))\n",
    "\n",
    "tabMeteo1 = [((2022,1,20), 2, 16, 0),((2022,1,21), 1, 13, 0.2)]"
   ]
  },
  {
   "cell_type": "markdown",
   "id": "1c91a8f8",
   "metadata": {},
   "source": [
    "### 1.d) Calcula a temperatura mínima mais baixa registada na tabela, dando como resultado esse valor:\n",
    "\n",
    "``` \n",
    "def minMin(tabMeteo):\n",
    "    ... \n",
    "    return ... \n",
    "```"
   ]
  },
  {
   "cell_type": "code",
   "execution_count": 6,
   "id": "0c7ab659",
   "metadata": {},
   "outputs": [
    {
     "name": "stdout",
     "output_type": "stream",
     "text": [
      "1\n"
     ]
    }
   ],
   "source": [
    "def minMin(tabMeteo):\n",
    "    res = tabMeteo[0][1]\n",
    "    for Data, tmin, tmax, prec in tabMeteo:\n",
    "        if tmin < res:\n",
    "            res = tmin\n",
    "    return res\n",
    "\n",
    "print(minMin(tabMeteo1))"
   ]
  },
  {
   "cell_type": "markdown",
   "id": "d13f2c34",
   "metadata": {},
   "source": [
    "### 1.e) Calcula a amplitude térmica (diferença entre a temperatura máxima e a temperatura mínima) de cada dia, dando como resultado uma lista de pares: [(data, amplitude)]\n",
    "\n",
    "``` \n",
    "def amplTerm(tabMeteo):\n",
    "    ... \n",
    "    return ... \n",
    "```"
   ]
  },
  {
   "cell_type": "code",
   "execution_count": 7,
   "id": "05ae6b71",
   "metadata": {},
   "outputs": [
    {
     "name": "stdout",
     "output_type": "stream",
     "text": [
      "[((2022, 1, 20), 14), ((2022, 1, 21), 12)]\n"
     ]
    }
   ],
   "source": [
    "def amplTerm(tabMeteo):\n",
    "    res = []\n",
    "    for Data, tmin, tmax, prec in tabMeteo:\n",
    "        amplitude = tmax - tmin\n",
    "        res.append((Data,amplitude))\n",
    "\n",
    "    return res \n",
    "\n",
    "print(amplTerm(tabMeteo1))"
   ]
  },
  {
   "cell_type": "markdown",
   "id": "364656ac",
   "metadata": {},
   "source": [
    "### 1.f) Calcula o dia em que a precipitação registada teve o seu valor máximo e indica esse valor, dando como resultado o par (data, valor):\n",
    "\n",
    "```\n",
    "def maxChuva(tabMeteo):\n",
    "    ... \n",
    "    return ... \n",
    "```"
   ]
  },
  {
   "cell_type": "code",
   "execution_count": 3,
   "id": "a7ecafee",
   "metadata": {},
   "outputs": [
    {
     "name": "stdout",
     "output_type": "stream",
     "text": [
      "((2022, 1, 21), 0.2)\n"
     ]
    }
   ],
   "source": [
    "def maxChuva(tabMeteo):\n",
    "    res = (tabMeteo[0][0], tabMeteo[0][3])\n",
    "    for Data, tmin, tmax, prec in tabMeteo:\n",
    "        if prec > res[1]:\n",
    "            res = (Data, prec)\n",
    "    return res\n",
    "\n",
    "print(maxChuva(tabMeteo1))"
   ]
  },
  {
   "cell_type": "markdown",
   "id": "f658ab20",
   "metadata": {},
   "source": [
    "### 1.g) Define uma função que recebe uma tabela meteorológica e um limite `p` e retorna uma lista de pares [(data, precipitação)] correspondente aos dias em que a precipitação foi superior a `p`.\n"
   ]
  },
  {
   "cell_type": "code",
   "execution_count": 6,
   "id": "885e6bdd",
   "metadata": {},
   "outputs": [
    {
     "data": {
      "text/plain": [
       "[((2022, 1, 21), 0.2)]"
      ]
     },
     "execution_count": 6,
     "metadata": {},
     "output_type": "execute_result"
    }
   ],
   "source": [
    "def diasChuvosos(tabMeteo, p):\n",
    "    res = [] # Crie uma lista vazia para armazenar os pares (data, precipitação)\n",
    "    for Data, tmin, tmax, prec in tabMeteo:\n",
    "        if prec > p: # Verifique se a precipitação é superior a p\n",
    "            res.append((Data, prec)) # Se for, adicione o par (data, precipitação) à lista de dias chuvosos\n",
    "    return res\n",
    "\n",
    "diasChuvosos(tabMeteo1, 0.1)"
   ]
  },
  {
   "cell_type": "markdown",
   "id": "4053559b",
   "metadata": {},
   "source": [
    "### 1.h) Define uma função que recebe uma tabela meteorológica e um limite `p` e retorna o maior número consecutivo de dias com precipitação abaixo desse limite."
   ]
  },
  {
   "cell_type": "code",
   "execution_count": null,
   "id": "78ca2bb2",
   "metadata": {},
   "outputs": [],
   "source": [
    "def maxPeriodoCalor(tabMeteo, p):\n",
    "    #...\n",
    "    return "
   ]
  },
  {
   "cell_type": "markdown",
   "id": "6553af14",
   "metadata": {},
   "source": [
    "### 1.i) Define uma função que recebe uma tabela meteorológica e desenha os gráficos da temperatura mínima, máxima e de pluviosidade."
   ]
  },
  {
   "cell_type": "code",
   "execution_count": null,
   "id": "02d30bba",
   "metadata": {},
   "outputs": [],
   "source": [
    "def grafTabMeteo(t):\n",
    "    #...\n",
    "    return"
   ]
  },
  {
   "cell_type": "markdown",
   "id": "c617f4f6",
   "metadata": {},
   "source": [
    "### 1.j) Coloca tudo numa aplicação externa ao notebook. "
   ]
  },
  {
   "cell_type": "markdown",
   "id": "4193a91b",
   "metadata": {},
   "source": [
    "### TPC7: Construir uma aplicação para manipular polinómios\n",
    "\n",
    "Depois da aula da semana passada, já tens algumas funções desenvolvidas que te irão ajudar a construir a aplicação que se descreve a seguir.\n",
    "\n",
    "* Aquecimento: Instancia os seguintes exemplos num ficheiro de texto com o formato definido na última aula\n",
    "    - `x^7 - 3.7x^4 + 5x^3 - 88`\n",
    "    - `2x^2 + 17`\n",
    "    - `7x^4 + 6x^3 - x^2 + 43`\n",
    "    - `x^4`\n",
    "    - `x^2`\n",
    "    - `x^3`\n",
    "\n",
    "* Desenvolve as seguintes funcionalidades que não foram trabalhadas na aula:\n",
    "    1. Define uma função que dado um polinómio calcula a sua derivada;\n",
    "    2. Define uma função que recebe dois polinómios `p1` e `p2` e calcula um novo polinómio correspondente à soma de `p1` e `p2`;\n",
    "    3. Define uma função que recebe um polinómio e o desenha num gráfico.\n",
    "\n",
    "* Num ficheiro Python, cria uma aplicação para manipular polinómios com as seguintes operações:\n",
    "    1. Criar um polinómio interativamente;\n",
    "    2. Ler uma lista de polinómios de um ficheiro;\n",
    "    3. Listar polinómios: mostra numa tabela os polinómios carregados em memória, adicionando um número de ordem a cada um;\n",
    "    4. Calcular o valor de um polinómio num ponto (usa o número de ordem para referenciar o polinómio);\n",
    "    5. Listar polinómios com grau: à listagem anterior, acrescenta mais uma coluna com o grau;\n",
    "    6. Maior grau: mostra o polinómio de maior grau e indica o seu número de ordem;\n",
    "    7. Derivada: mostra uma tabela com os polinómios e as respetivas derivadas;\n",
    "    8. Somar dois polinómios: indicando os seus números de ordem;\n",
    "    9. Gerar um gráfico para o polinómio;\n",
    "    10. Gravar num ficheiro os polinómios em memória;\n",
    "    0. Sair da aplicação\n"
   ]
  },
  {
   "cell_type": "code",
   "execution_count": 17,
   "id": "6cef9098",
   "metadata": {},
   "outputs": [],
   "source": [
    "p1 = [(1,7), (-3.7,4), (5,3), (-88,0)]\n",
    "p2 = [(2,2), (17,0)]\n",
    "p3 = [(7,4), (6,3), (-1,2), (43,0)]\n",
    "p4 = [(1,4)]\n",
    "p5 = [(1,2)]\n",
    "p6 = [(1,3)]\n",
    "polinomios = [p1,p2,p3,p4,p5,p6]\n",
    "\n",
    "\n",
    "def guardarPolinomios(listap, fnome):\n",
    "    file = open(fnome,\"w\")\n",
    "    for p in listap:\n",
    "        for termo in p:\n",
    "            coe, grau = (termo,0)\n",
    "            file.write(str(coe) + \";\" + str(grau) + \"#\")\n",
    "        file.write(\"\\n\")\n",
    "    file.close()\n",
    "guardarPolinomios(polinomios,\"polinomios.txt\")"
   ]
  },
  {
   "cell_type": "code",
   "execution_count": 18,
   "id": "a8462988",
   "metadata": {},
   "outputs": [
    {
     "data": {
      "text/plain": [
       "[(4, 1)]"
      ]
     },
     "execution_count": 18,
     "metadata": {},
     "output_type": "execute_result"
    }
   ],
   "source": [
    "def derivada_do_polinomio(polinomio):\n",
    "    derivada = []\n",
    "    for coeficiente, grau in polinomio:\n",
    "        if grau > 0:\n",
    "            novo_coeficiente = coeficiente * grau\n",
    "            novo_grau = grau - 1\n",
    "            derivada.append((novo_coeficiente, novo_grau))\n",
    "    return derivada\n",
    "derivada_do_polinomio(p2)"
   ]
  },
  {
   "cell_type": "code",
   "execution_count": 23,
   "id": "be81ef12",
   "metadata": {},
   "outputs": [
    {
     "data": {
      "text/plain": [
       "[(1, 7), (-3.7, 4), (5, 3), (2, 2), (-71, 0)]"
      ]
     },
     "execution_count": 23,
     "metadata": {},
     "output_type": "execute_result"
    }
   ],
   "source": [
    "def somarPolinomios(p1, p2):\n",
    "    resultado = []\n",
    "    i = 0\n",
    "    j = 0\n",
    "    while i < len(p1) and j < len(p2):\n",
    "        coe1, grau1 = p1[i]\n",
    "        coe2, grau2 = p2[j]\n",
    "        if grau1 == grau2:\n",
    "            resultado.append((coe1 + coe2, grau1))\n",
    "            i += 1\n",
    "            j += 1\n",
    "        elif grau1 > grau2:\n",
    "            resultado.append((coe1, grau1))\n",
    "            i += 1\n",
    "        else:\n",
    "            resultado.append((coe2, grau2))\n",
    "            j += 1\n",
    "    while i < len(p1):\n",
    "        coe, grau = p1[i]\n",
    "        resultado.append((coe, grau))\n",
    "        i += 1\n",
    "    while j < len(p2):\n",
    "        coe, grau = p2[j]\n",
    "        resultado.append((coe, grau))\n",
    "        j += 1\n",
    "\n",
    "    return resultado\n",
    "\n",
    "somarPolinomios(p1,p2)"
   ]
  },
  {
   "cell_type": "code",
   "execution_count": null,
   "id": "9c91ada9",
   "metadata": {},
   "outputs": [],
   "source": [
    "import matplotlib.pyplot as plt\n",
    "import numpy as np\n",
    "\n",
    "polinomios = []\n",
    "\n",
    "def criar_polinomio():\n",
    "    coeficientes = []\n",
    "    grau = int(input(\"Grau do polinómio: \"))\n",
    "    for i in range(grau + 1):\n",
    "        coef = float(input(f\"Coeficiente de x^{grau - i}: \"))\n",
    "        coeficientes.append(coef)\n",
    "    polinomios.append(coeficientes)\n",
    "    print(\"Polinómio criado com sucesso!\")\n",
    "\n",
    "def listar_polinomios():\n",
    "    if not polinomios:\n",
    "        print(\"Nenhum polinómio disponível.\")\n",
    "        return\n",
    "    print(\"Lista de polinómios:\")\n",
    "    for i, coeficientes in enumerate(polinomios):\n",
    "        print(f\"{i}: {coeficientes}\")\n",
    "\n",
    "def calcular_valor_polinomio():\n",
    "    if not polinomios:\n",
    "        print(\"Nenhum polinómio disponível.\")\n",
    "        return\n",
    "    num_ordem = int(input(\"Número de ordem do polinómio: \"))\n",
    "    if num_ordem < 0 or num_ordem >= len(polinomios):\n",
    "        print(\"Número de ordem inválido.\")\n",
    "        return\n",
    "    x = float(input(\"Valor de x: \"))\n",
    "    coeficientes = polinomios[num_ordem]\n",
    "    resultado = sum(coef * (x ** (len(coeficientes) - 1 - i)) for i, coef in enumerate(coeficientes))\n",
    "    print(f\"Resultado: {resultado}\")\n",
    "\n",
    "def listar_polinomios_com_grau():\n",
    "    if not polinomios:\n",
    "        print(\"Nenhum polinómio disponível.\")\n",
    "        return\n",
    "    print(\"Lista de polinómios com grau:\")\n",
    "    for i, coeficientes in enumerate(polinomios):\n",
    "        grau = len(coeficientes) - 1\n",
    "        print(f\"{i}: {coeficientes} (grau {grau})\")\n",
    "\n",
    "def maior_grau():\n",
    "    if not polinomios:\n",
    "        print(\"Nenhum polinómio disponível.\")\n",
    "        return\n",
    "    maior_grau = 0\n",
    "    indice_maior_grau = 0\n",
    "    for i, coeficientes in enumerate(polinomios):\n",
    "        grau = len(coeficientes) - 1\n",
    "        if grau > maior_grau:\n",
    "            maior_grau = grau\n",
    "            indice_maior_grau = i\n",
    "    print(f\"Polinómio com maior grau (número de ordem {indice_maior_grau}): {polinomios[indice_maior_grau]}\")\n",
    "\n",
    "def derivada():\n",
    "    if not polinomios:\n",
    "        print(\"Nenhum polinómio disponível.\")\n",
    "        return\n",
    "    print(\"Tabela de derivadas:\")\n",
    "    for i, coeficientes in enumerate(polinomios):\n",
    "        derivada = [coef * i for i, coef in enumerate(coeficientes)][1:]\n",
    "        print(f\"{i}: {coeficientes} -> {derivada}\")\n",
    "\n",
    "def somar_polinomios():\n",
    "    if len(polinomios) < 2:\n",
    "        print(\"Pelo menos dois polinómios são necessários para a operação de soma.\")\n",
    "        return\n",
    "    num_ordem1 = int(input(\"Número de ordem do primeiro polinómio: \"))\n",
    "    num_ordem2 = int(input(\"Número de ordem do segundo polinómio: \"))\n",
    "    if num_ordem1 < 0 or num_ordem1 >= len(polinomios) or num_ordem2 < 0 or num_ordem2 >= len(polinomios):\n",
    "        print(\"Número de ordem inválido.\")\n",
    "        return\n",
    "    coeficientes1 = polinomios[num_ordem1]\n",
    "    coeficientes2 = polinomios[num_ordem2]\n",
    "    resultado = [c1 + c2 for c1, c2 in zip(coeficientes1, coeficientes2)]\n",
    "    polinomios.append(resultado)\n",
    "    print(\"Polinómio somado com sucesso!\")\n",
    "\n",
    "def gerar_grafico_polinomio():\n",
    "    if not polinomios:\n",
    "        print(\"Nenhum polinómio disponível.\")\n",
    "        return\n",
    "    num_ordem = int(input(\"Número de ordem do polinómio: \"))\n",
    "    if num_ordem < 0 or num_ordem >= len(polinomios):\n",
    "        print(\"Número de ordem inválido.\")\n",
    "        return\n",
    "    coeficientes = polinomios[num_ordem]\n",
    "    x = np.linspace(-10, 10, 400)\n",
    "    y = np.polyval(coeficientes, x)\n",
    "    plt.plot(x, y)\n",
    "    plt.xlabel('x')\n",
    "    plt.ylabel('f(x)')\n",
    "    plt.title(f'Gráfico do Polinómio {num_ordem}')\n",
    "    plt.grid(True)\n",
    "    plt.show()\n",
    "\n",
    "def guardarPolinomios(listap, fnome):\n",
    "    file = open(fnome,\"w\")\n",
    "    for p in listap:\n",
    "        for termo in p:\n",
    "            coe, grau = termo\n",
    "            file.write(str(coe) + \";\" + str(grau) + \"#\")\n",
    "        file.write(\"\\n\")\n",
    "    file.close()\n",
    "    print(\"Polinómios gravados com sucesso!\")\n",
    "\n",
    "\n",
    "def menu():\n",
    "    menu = (\"Menu\\nEscolha a opção:\\n(1)Criar polinómio\\n(2)Listar polinómios\\n(3)Calcular valor de um polinómio\\n(4)Listar polinómios com grau\\n(5)Maior grau\\n(6)Derivada\\n(7)Somar dois polinómios\\n(8)Gerar gráfico de polinómio\\n(9)Gravar polinómios em arquivo\\n(0)Sair\")  \n",
    "\n",
    "    print(menu)\n",
    "    menuOption = int(input(\"Escolha uma funcao:\"))\n",
    "    if menuOption == 1:\n",
    "        criar_polinomio()\n",
    "    elif menuOption == 2:\n",
    "        listar_polinomios()\n",
    "    elif menuOption == 3:\n",
    "        calcular_valor_polinomio()\n",
    "    elif menuOption == 4:\n",
    "        listar_polinomios_com_grau()\n",
    "    elif menuOption == 5:\n",
    "        maior_grau()\n",
    "    elif menuOption == 6:\n",
    "        derivada()\n",
    "    elif menuOption == 7:\n",
    "        somar_polinomios()\n",
    "    elif menuOption == 8:\n",
    "        gerar_grafico_polinomio()\n",
    "    elif menuOption == 9:\n",
    "        guardarPolinomios()\n",
    "    elif menuOption == 0:\n",
    "        print(\"saiu da aplicacao\")\n",
    "\n",
    "\n"
   ]
  }
 ],
 "metadata": {
  "kernelspec": {
   "display_name": "Python 3.9.1 64-bit",
   "language": "python",
   "name": "python3"
  },
  "language_info": {
   "codemirror_mode": {
    "name": "ipython",
    "version": 3
   },
   "file_extension": ".py",
   "mimetype": "text/x-python",
   "name": "python",
   "nbconvert_exporter": "python",
   "pygments_lexer": "ipython3",
   "version": "3.11.0"
  },
  "vscode": {
   "interpreter": {
    "hash": "aee8b7b246df8f9039afb4144a1f6fd8d2ca17a180786b69acc140d282b71a49"
   }
  }
 },
 "nbformat": 4,
 "nbformat_minor": 5
}
