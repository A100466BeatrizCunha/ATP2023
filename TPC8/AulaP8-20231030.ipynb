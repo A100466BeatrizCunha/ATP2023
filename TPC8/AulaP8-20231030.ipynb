{
 "cells": [
  {
   "cell_type": "markdown",
   "id": "1e545158",
   "metadata": {},
   "source": [
    "# Aula Prática 8 (guião)\n",
    "### Semana de 30 de Outubro a 3 de Novembro de 2023\n",
    "### José Carlos Ramalho e Luís Cunha\n",
    "### Sinopsis:\n",
    "Consolidação e aferição de tudo o que foi feito até ao momento. "
   ]
  },
  {
   "cell_type": "markdown",
   "id": "9b9b5140-2b81-435e-9fc0-324437a7b453",
   "metadata": {},
   "source": [
    "### Assunto: Frações\n",
    "Vamos pensar num modelo: o que é uma fração estruturalmente?"
   ]
  },
  {
   "cell_type": "code",
   "execution_count": null,
   "id": "5a6da5eb",
   "metadata": {},
   "outputs": [],
   "source": [
    "# Modelo duma fração\n",
    "\n",
    "# Modelo duma lista de frações"
   ]
  },
  {
   "cell_type": "markdown",
   "id": "d477052b-e074-4a5d-ac12-85c2286a1e5f",
   "metadata": {},
   "source": [
    "### Construtor"
   ]
  },
  {
   "cell_type": "code",
   "execution_count": 7,
   "id": "33d1c7e9-22af-4473-9b21-3e7ce0fcf571",
   "metadata": {},
   "outputs": [],
   "source": [
    "def criarFracao(numerador, denominador):\n",
    "    return (numerador, denominador)\n",
    "\n",
    "def verFracao(f):\n",
    "    print(f[0],\"/\",f[1], sep=\"\",end=\" \") #sep indica o separador\n",
    "    return                               #end para indicar o que vem no fim do print, por defeito seria mudar de linha, agora passou a ser um espaço\n",
    "                                         #quando tentamos concatenar (usar o +) temos de converter tudo a string (usar o str)\n"
   ]
  },
  {
   "cell_type": "code",
   "execution_count": 8,
   "id": "d46df3ff",
   "metadata": {},
   "outputs": [
    {
     "name": "stdout",
     "output_type": "stream",
     "text": [
      "2/3 "
     ]
    }
   ],
   "source": [
    "f1 = criarFracao(2,3)\n",
    "verFracao(f1)"
   ]
  },
  {
   "cell_type": "markdown",
   "id": "f7cd0ff1",
   "metadata": {},
   "source": [
    "### Simplificação de frações"
   ]
  },
  {
   "cell_type": "code",
   "execution_count": 9,
   "id": "8b0fa08f",
   "metadata": {},
   "outputs": [],
   "source": [
    "def mdc(a,b):\n",
    "    for n in range(1, a*b+1): #para ir ate ao maximo possivel dos divisores \n",
    "        if a % n == 0 and b % n == 0:\n",
    "            mdc = n\n",
    "    return mdc\n",
    "\n",
    "\n",
    "def simplificarFracao(f):\n",
    "    divisor= mdc(f[0],f[1])\n",
    "    return (f[0]/divisor, f[1]/divisor)"
   ]
  },
  {
   "cell_type": "code",
   "execution_count": 19,
   "metadata": {},
   "outputs": [],
   "source": [
    "#def mdc2(a,b):\n",
    " #   while a != b:\n",
    "  #      if a > b:\n",
    "   #         aux = a\n",
    "    #        a = b\n",
    "     #       b = aux - b\n",
    "      #      a,b = b, a-b\n",
    "       # else:\n",
    "        #    a,b = b,a\n",
    "    #return b\n",
    "    "
   ]
  },
  {
   "cell_type": "code",
   "execution_count": 26,
   "id": "8821d031",
   "metadata": {},
   "outputs": [
    {
     "name": "stdout",
     "output_type": "stream",
     "text": [
      "3.0/20.0 "
     ]
    }
   ],
   "source": [
    "verFracao(simplificarFracao(criarFracao(21, 140)))"
   ]
  },
  {
   "cell_type": "markdown",
   "id": "ca2f1736",
   "metadata": {},
   "source": [
    "### Frações equivalentes\n",
    "\n",
    "Defina uma função que recebe duas frações como argumento e devolve `True` se as frações são equivalentes e `False` caso contrário."
   ]
  },
  {
   "cell_type": "code",
   "execution_count": 12,
   "id": "58bdae83",
   "metadata": {},
   "outputs": [
    {
     "data": {
      "text/plain": [
       "False"
      ]
     },
     "execution_count": 12,
     "metadata": {},
     "output_type": "execute_result"
    }
   ],
   "source": [
    "def equivalenteFracao(f1,f2):\n",
    "    return simplificarFracao(f1) == simplificarFracao(f2)\n",
    "\n",
    "f3=(2,4)\n",
    "f4= (4,6)\n",
    "equivalenteFracao(f3,f4)"
   ]
  },
  {
   "cell_type": "markdown",
   "id": "d52f012f",
   "metadata": {},
   "source": [
    "## Operações sobre frações"
   ]
  },
  {
   "cell_type": "code",
   "execution_count": 13,
   "id": "96ba280b",
   "metadata": {},
   "outputs": [
    {
     "name": "stdout",
     "output_type": "stream",
     "text": [
      "29.0/21.0 "
     ]
    }
   ],
   "source": [
    "def somarFrac(f1, f2):\n",
    "    return simplificarFracao((f1[0]*f2[1]+f2[0]*f1[1],f1[1]*f2[1]))\n",
    "\n",
    "f2 = criarFracao(5,7)\n",
    "verFracao(somarFrac(f1,f2))"
   ]
  },
  {
   "cell_type": "code",
   "execution_count": 14,
   "id": "a0198bce",
   "metadata": {},
   "outputs": [
    {
     "name": "stdout",
     "output_type": "stream",
     "text": [
      "[(1, 2), (4, 7), (9, 13), (2, 5), (2, 13), (1, 7), (6, 11), (9, 6), (2, 12), (6, 12), (3, 13), (6, 9), (6, 5), (8, 18), (9, 8), (5, 6), (7, 12), (3, 15), (3, 9)]\n"
     ]
    }
   ],
   "source": [
    "listaFrac = [f1, f2, criarFracao(125,1000), (8,12)]\n",
    "listaFrac2 = []\n",
    "import random\n",
    "for i in range(1,20):\n",
    "    n = random.randrange(1, 10)\n",
    "    d = random.randrange(2, 20)\n",
    "    listaFrac2.append(criarFracao(n,d))\n",
    "print(listaFrac2)"
   ]
  },
  {
   "cell_type": "markdown",
   "id": "e83e4eae",
   "metadata": {},
   "source": [
    "### Soma uma lista de frações"
   ]
  },
  {
   "cell_type": "code",
   "execution_count": 17,
   "metadata": {},
   "outputs": [
    {
     "name": "stdout",
     "output_type": "stream",
     "text": [
      "(17.0, 14.0)\n"
     ]
    }
   ],
   "source": [
    "print(somarFrac(listaFrac2[0],listaFrac[1]))"
   ]
  },
  {
   "cell_type": "code",
   "execution_count": null,
   "metadata": {},
   "outputs": [],
   "source": [
    "def somarListaFrac (lista):\n",
    "    res=lista[0]\n",
    "    i=1\n",
    "    while i<len(lista):\n",
    "        res= somarFrac(res,lista[i])\n",
    "        i=i+1\n",
    "    return res\n",
    "\n",
    "somarListaFrac(listaFrac2)"
   ]
  },
  {
   "cell_type": "markdown",
   "id": "a88929cc",
   "metadata": {},
   "source": [
    "### Multiplica 2 frações"
   ]
  },
  {
   "cell_type": "code",
   "execution_count": 29,
   "id": "519c5358",
   "metadata": {},
   "outputs": [
    {
     "data": {
      "text/plain": [
       "(10, 21)"
      ]
     },
     "execution_count": 29,
     "metadata": {},
     "output_type": "execute_result"
    }
   ],
   "source": [
    "def multFrac(f1, f2):\n",
    "    num,den=f1\n",
    "    num1,den1=f2\n",
    "    num_atual= num*num1\n",
    "    den_atual=den*den1\n",
    "    return (num_atual,den_atual)\n",
    "\n",
    "multFrac(f1,f2)"
   ]
  },
  {
   "cell_type": "markdown",
   "id": "d1f0c8fa",
   "metadata": {},
   "source": [
    "### Ordenar uma lista de frações por ordem decrescente"
   ]
  },
  {
   "cell_type": "code",
   "execution_count": 30,
   "id": "b783df02",
   "metadata": {},
   "outputs": [
    {
     "data": {
      "text/plain": [
       "[(5, 7), (2, 3), (8, 12), (125, 1000)]"
      ]
     },
     "execution_count": 30,
     "metadata": {},
     "output_type": "execute_result"
    }
   ],
   "source": [
    "def ordena(f):\n",
    "    return f[0]/f[1]\n",
    "\n",
    "\n",
    "\n",
    "def ordenaFracDec(lista):\n",
    "    lista=sorted(lista, key=ordena,reverse= True)\n",
    "    return lista\n",
    "\n",
    "ordenaFracDec(listaFrac)"
   ]
  },
  {
   "cell_type": "markdown",
   "id": "fcd5b5d6",
   "metadata": {},
   "source": [
    "### Guardar uma lista de frações num ficheiro"
   ]
  },
  {
   "cell_type": "code",
   "execution_count": 31,
   "id": "2840f9b2",
   "metadata": {},
   "outputs": [],
   "source": [
    "def gravaListaFrac(fnome,lista):\n",
    "    file=open(fnome,'w')\n",
    "    for f in lista:\n",
    "        registo=str(f[0])+\"/\"+str(f[1])+\"\\n\" #para string usar o +\n",
    "        file.write(registo)\n",
    "    file.close()\n",
    "    return \n",
    "\n",
    "gravaListaFrac(\"fracoes.txt\",listaFrac)"
   ]
  },
  {
   "cell_type": "markdown",
   "id": "0664fcdc",
   "metadata": {},
   "source": [
    "### Recuperar uma lista de frações dum ficheiro"
   ]
  },
  {
   "cell_type": "code",
   "execution_count": 32,
   "id": "82aece6e",
   "metadata": {},
   "outputs": [
    {
     "name": "stdout",
     "output_type": "stream",
     "text": [
      "[(2, 3), (5, 7), (125, 1000), (8, 12)]\n"
     ]
    }
   ],
   "source": [
    "def carregaListaFrac(fnome):\n",
    "    file=open(fnome,'r')\n",
    "    lista=[]\n",
    "    for line in file:\n",
    "        f=line.strip()\n",
    "        frac= f.split(\"/\")\n",
    "        num,dem=frac\n",
    "        lista.append((int(num),int(dem)))\n",
    "    #ou\n",
    "    #for linha in file:\n",
    "    #   linha=linha[:1]\n",
    "    #   fracao=linha.split(\"/\")\n",
    "    #   num=fracao[0]\n",
    "    #   den=fracao[1]\n",
    "    #   lista.append((int(num),int(den)))\n",
    "    file.close()\n",
    "    return lista\n",
    "\n",
    "print(carregaListaFrac(\"fracoes.txt\"))"
   ]
  },
  {
   "cell_type": "markdown",
   "id": "4193a91b",
   "metadata": {},
   "source": [
    "## TPC8: Teste de aferição\n",
    "\n",
    "Resolva os problemas apresentados a seguir."
   ]
  },
  {
   "cell_type": "markdown",
   "id": "ecb162bd",
   "metadata": {},
   "source": [
    "### tpc-1. Especifique as seguintes listas em compreensão:"
   ]
  },
  {
   "cell_type": "markdown",
   "id": "4e758271",
   "metadata": {},
   "source": [
    "#### a) Lista formada pelos elementos que não são comuns às duas listas:"
   ]
  },
  {
   "cell_type": "code",
   "execution_count": 36,
   "id": "1fe48423",
   "metadata": {},
   "outputs": [
    {
     "name": "stdout",
     "output_type": "stream",
     "text": [
      "[1, 2, 3, 6, 7, 8]\n"
     ]
    }
   ],
   "source": [
    "lista1 = [1, 2, 3, 4, 5]\n",
    "lista2 = [4, 5, 6, 7, 8]  \n",
    "comuns = [i for i in lista1 if i not in lista2] + [i for i in lista2 if i not in lista1]\n",
    "print(comuns)\n",
    "# Resultado esperado: [1,2,3,5,7,8]"
   ]
  },
  {
   "cell_type": "markdown",
   "id": "0ded2f03",
   "metadata": {},
   "source": [
    "#### b) Lista formada pelas palavras do texto compostas por mais de 3 letras:"
   ]
  },
  {
   "cell_type": "code",
   "execution_count": 38,
   "id": "4ae7f5d0",
   "metadata": {},
   "outputs": [
    {
     "name": "stdout",
     "output_type": "stream",
     "text": [
      "['Vivia', 'poucos', 'anos', 'algures', 'concelho', 'Ribatejo', 'pequeno', 'lavrador', 'negociante', 'gado', 'chamado', 'Manuel', 'Peres', 'Vigário']\n"
     ]
    }
   ],
   "source": [
    "texto = \"\"\"Vivia há já não poucos anos algures num concelho do Ribatejo \n",
    "    um pequeno lavrador e negociante de gado chamado Manuel Peres Vigário\"\"\"\n",
    "lista = [pal for pal in texto.split() if len(pal) > 3]\n",
    "print(lista)\n",
    "# Resultado esperado: ['Vivia', 'poucos', 'anos', 'algures', 'concelho', ...]"
   ]
  },
  {
   "cell_type": "markdown",
   "id": "ecf72afd",
   "metadata": {},
   "source": [
    "#### c) Lista formada por pares do tipo (índice, valor) com os valores da lista dada:"
   ]
  },
  {
   "cell_type": "code",
   "execution_count": 40,
   "id": "876b2cc3",
   "metadata": {},
   "outputs": [
    {
     "name": "stdout",
     "output_type": "stream",
     "text": [
      "[(1, 'anaconda'), (2, 'burro'), (3, 'cavalo'), (4, 'macaco')]\n"
     ]
    }
   ],
   "source": [
    "lista = ['anaconda', 'burro', 'cavalo', 'macaco']\n",
    "listaRes = [(indice + 1, valor) for indice, valor in enumerate(lista)]\n",
    "print(listaRes)\n",
    "# Resultado esperado: [(1,'anaconda'), (2,'burro'), (3,'cavalo'), (4,'macaco')]"
   ]
  },
  {
   "cell_type": "markdown",
   "id": "28cb3dc4",
   "metadata": {},
   "source": [
    "### tpc-2. À semelhança do que foi feito nas aulas, realize as seguintes tarefas:"
   ]
  },
  {
   "cell_type": "markdown",
   "id": "5d3f1dbe",
   "metadata": {},
   "source": [
    "#### a) Especifique uma função que dada uma string e uma substring não vazia, calcula  o número de vezes em que a substring aparece na string, sem que haja sobreposição de substrings:"
   ]
  },
  {
   "cell_type": "code",
   "execution_count": 50,
   "id": "4458c7bc",
   "metadata": {},
   "outputs": [
    {
     "data": {
      "text/plain": [
       "0"
      ]
     },
     "execution_count": 50,
     "metadata": {},
     "output_type": "execute_result"
    }
   ],
   "source": [
    "def strCount(s, subs):\n",
    "    contador = 0\n",
    "    lista = []\n",
    "    for i in range(0, len(s), len(subs)):\n",
    "        pal = s[i:i+len(subs)]\n",
    "        lista.append(pal)\n",
    "    for p in lista:\n",
    "        if p == subs:\n",
    "            contador = contador + 1\n",
    "    return contador\n",
    "\n",
    "strCount(\"catcowcat\", \"cat\") # --> 2\n",
    "strCount(\"catcowcat\", \"cow\") # --> 1\n",
    "strCount(\"catcowcat\", \"dog\") # --> 0"
   ]
  },
  {
   "cell_type": "markdown",
   "id": "e6db31d7",
   "metadata": {},
   "source": [
    "#### b) Especifique uma função que recebe uma lista de números inteiros positivos e devolve o menor produto que for possível calcular multiplicando os 3 menores inteiros da lista:"
   ]
  },
  {
   "cell_type": "code",
   "execution_count": 54,
   "id": "2b5ad344",
   "metadata": {},
   "outputs": [
    {
     "name": "stdout",
     "output_type": "stream",
     "text": [
      "168\n"
     ]
    }
   ],
   "source": [
    "def produtoM3(lista):\n",
    "    res = 0\n",
    "    if len(lista) > 3:\n",
    "        listaOrdenada = sorted(lista)\n",
    "        res = listaOrdenada[0]*listaOrdenada[1]*listaOrdenada[2]\n",
    "   \n",
    "    return  res\n",
    "\n",
    "print(produtoM3([12,3,7,10,12,8,9]))\n",
    "# Resultado esperado: 168 = 3 * 7 * 8"
   ]
  },
  {
   "cell_type": "markdown",
   "id": "6698b337",
   "metadata": {},
   "source": [
    "#### c) Especifique uma função que dado um número inteiro positivo, repetidamente adiciona os seus dígitos até obter apenas um dígito que é retornado como resultado:"
   ]
  },
  {
   "cell_type": "code",
   "execution_count": null,
   "id": "54cef309",
   "metadata": {},
   "outputs": [],
   "source": [
    "# Input: 38\n",
    "# Output: 2\n",
    "# Explicação: 3 + 8 = 11, 1 + 1 = 2.\n",
    "\n",
    "# Input: 777\n",
    "# Output: 3\n",
    "# Explicação: 7 + 7 + 7 = 21, 2 + 1 = 3.\n",
    "\n",
    "def reduxInt(n):\n",
    "    res = 0\n",
    "    while n > 1:\n",
    "        res = n[0] + n[1] + n[i]\n",
    "    return res\n",
    "reduxInt(777)"
   ]
  },
  {
   "cell_type": "markdown",
   "id": "4a47b6e8",
   "metadata": {},
   "source": [
    "#### d) Especifique uma função que recebe duas strings, `string1` e `string2`, e devolve o índice da primeira ocorrência de `string2` em `string1`, caso não ocorra nenhuma vez a função deverá retornar `-1`:"
   ]
  },
  {
   "cell_type": "code",
   "execution_count": 61,
   "id": "f0f4c2a8",
   "metadata": {},
   "outputs": [
    {
     "data": {
      "text/plain": [
       "13"
      ]
     },
     "execution_count": 61,
     "metadata": {},
     "output_type": "execute_result"
    }
   ],
   "source": [
    "# Invocação: indexOf(\"Hoje está um belo dia de sol!\", \"belo\")\n",
    "# Resultado: 13\n",
    "\n",
    "# Invocação: indexOf(\"Hoje está um belo dia de sol!\", \"chuva\")\n",
    "# Resultado: -1\n",
    "\n",
    "def myIndexOf(s1, s2):\n",
    "    for i in range(0, len(s1)):\n",
    "        if s1[i : i + len(s2)] == s2:\n",
    "            return i\n",
    "    return -1\n",
    "myIndexOf(\"Hoje está um belo dia de sol!\", \"belo\")"
   ]
  },
  {
   "cell_type": "markdown",
   "id": "7cd572fc",
   "metadata": {},
   "source": [
    "### tpc-3. A Rede Social\n",
    "\n",
    "Considere que a informação sobre uma rede social está armazenada numa lista de dicionários.\n",
    "\n",
    "Cada dicionário, correspondente a um _post_ e tem chaves `id`, `conteudo`, `autor`, `dataCriacao` e `comentarios`.\n",
    "Por sua vez, `comentarios` é uma lista de dicionários com chaves `comentario` e `autor`.\n",
    "\n",
    "Considere o seguinte exemplo:\n",
    "\n",
    "``` \n",
    "    MyFaceBook = [{\n",
    "        'id': 'p1', \n",
    "        'conteudo': 'A tarefa de avaliação é talvez a mais ingrata das tarefas que um professor\n",
    "    tem de realizar...', \n",
    "        'autor': 'jcr', \n",
    "        'dataCriacao': '2023-07-20', \n",
    "        'comentarios': [\n",
    "            {\n",
    "                'comentario': 'Completamente de acordo...',\n",
    "                'autor': 'prh'\n",
    "            },\n",
    "            {\n",
    "                'comentario': 'Mas há quem goste...',\n",
    "                'autor': 'jj'\n",
    "            }\n",
    "        ]},\n",
    "        {\n",
    "            'id': 'p2',\n",
    "            ...\n",
    "        },\n",
    "        ...\n",
    "        ]\n",
    "```"
   ]
  },
  {
   "cell_type": "markdown",
   "id": "89afc758",
   "metadata": {},
   "source": [
    "Defina as seguintes funções de manipulação e consulta da rede social:"
   ]
  },
  {
   "cell_type": "code",
   "execution_count": 78,
   "metadata": {},
   "outputs": [],
   "source": [
    "MyFaceBook1 = [{'id': 'p1', 'conteudo': 'A tarefa de avaliação é talvez a mais ingrata das tarefas que um professor tem de realizar...',\n",
    " 'autor': 'jcr', 'dataCriacao': '2023-07-20', 'comentarios': [{'comentario': 'Completamente de acordo...','autor': 'prh'},\n",
    "{'comentario': 'Mas há quem goste...','autor': 'jj'}]},{'id': 'p2', 'conteudo': 'A tarefa de avaliação é uma das tarefas que um professor tem de realizar',\n",
    " 'autor': 'Anonimo', 'dataCriacao': '2023-07-20', 'comentarios': [{'comentario': 'Completamente de acordo...','autor': 'prh'},\n",
    "{'comentario': 'Mas há quem goste...','autor': 'jj'}]},{'id': 'p3', 'conteudo': 'Bananas são amarelas',\n",
    " 'autor': 'Anonimo', 'dataCriacao': '2023-07-20', 'comentarios': [{'comentario': 'Completamente de acordo...','autor': 'marco'},\n",
    "{'comentario': 'Mas há quem goste delas verdes...','autor': 'jjj'}]}]"
   ]
  },
  {
   "cell_type": "markdown",
   "id": "1aec6cd8",
   "metadata": {},
   "source": [
    "#### a) `quantosPost`, que indica quantos posts estão registados:"
   ]
  },
  {
   "cell_type": "code",
   "execution_count": 81,
   "id": "39a813ee",
   "metadata": {},
   "outputs": [
    {
     "data": {
      "text/plain": [
       "3"
      ]
     },
     "execution_count": 81,
     "metadata": {},
     "output_type": "execute_result"
    }
   ],
   "source": [
    "def quantosPost(redeSocial):\n",
    "    i = 0\n",
    "    for p in redeSocial:\n",
    "        i = i + 1\n",
    "    return i\n",
    "quantosPost(MyFaceBook1)"
   ]
  },
  {
   "cell_type": "markdown",
   "id": "2156a0c8",
   "metadata": {},
   "source": [
    "#### b)  `postsAutor`, que devolve a lista de posts de um determinado autor:"
   ]
  },
  {
   "cell_type": "code",
   "execution_count": 79,
   "metadata": {},
   "outputs": [
    {
     "data": {
      "text/plain": [
       "['A tarefa de avaliação é talvez a mais ingrata das tarefas que um professor tem de realizar...']"
      ]
     },
     "execution_count": 79,
     "metadata": {},
     "output_type": "execute_result"
    }
   ],
   "source": [
    "def postsAutor(redeSocial, autor):\n",
    "    lista = []\n",
    "    for n in redeSocial:\n",
    "        if n['autor'] == autor:\n",
    "            lista.append(n['conteudo'])\n",
    "    return lista\n",
    "postsAutor(MyFaceBook1, 'jcr')"
   ]
  },
  {
   "cell_type": "markdown",
   "id": "12f9126b",
   "metadata": {},
   "source": [
    "#### c) `autores`, que devolve a lista de autores de posts ordenada alfabeticamente:"
   ]
  },
  {
   "cell_type": "code",
   "execution_count": 82,
   "id": "d9dfe30a",
   "metadata": {},
   "outputs": [
    {
     "data": {
      "text/plain": [
       "['Anonimo', 'jcr']"
      ]
     },
     "execution_count": 82,
     "metadata": {},
     "output_type": "execute_result"
    }
   ],
   "source": [
    "def autores(redeSocial):\n",
    "    lista = []\n",
    "    for n in redeSocial:\n",
    "        autor = n['autor']\n",
    "        if autor not in lista:\n",
    "            lista.append(autor)\n",
    "    return sorted(lista)\n",
    "autores(MyFaceBook1)"
   ]
  },
  {
   "cell_type": "markdown",
   "id": "1a0f760b",
   "metadata": {},
   "source": [
    "#### d) `insPost`, que acrescenta um novo post à rede social a partir dos parâmetros recebidos e devolve a nova rede social. \n",
    "    \n",
    "O campo `id` devrá ser calculado a partir dos já existentes, por exemplo, se a rede tiver posts com id `p1`, `p2` e `p3`, o novo `id` deverá ser `p4`."
   ]
  },
  {
   "cell_type": "code",
   "execution_count": null,
   "id": "a00c85e3",
   "metadata": {},
   "outputs": [],
   "source": [
    "def insPost(redeSocial, conteudo, autor, dataCriacao, comentarios=[]):\n",
    "    ids_existentes = [post['id'] for post in redeSocial]\n",
    "    novo_id = 'p' + str(len(ids_existentes) + 1)\n",
    "    \n",
    "    # Cria o novo post\n",
    "    novo_post = {\n",
    "        'id': novo_id,\n",
    "        'conteudo': conteudo,\n",
    "        'autor': autor,\n",
    "        'dataCriacao': dataCriacao,\n",
    "        'comentarios': comentarios\n",
    "    }\n",
    "    \n",
    "    # Acrescenta o novo post à rede social\n",
    "    redeSocial.append(novo_post)\n",
    "    \n",
    "    return redeSocial\n",
    "\n",
    "print(insPost(MyFaceBook1, 'Novo', 'eu', '2023-11-04', 'Gosto de chocolate'))"
   ]
  },
  {
   "cell_type": "markdown",
   "id": "65061d0a",
   "metadata": {},
   "source": [
    "#### e)  `remPost`, que remove um post da rede, correspondente ao `id` recebido."
   ]
  },
  {
   "cell_type": "code",
   "execution_count": 83,
   "id": "dc1adabc",
   "metadata": {},
   "outputs": [
    {
     "data": {
      "text/plain": [
       "[{'id': 'p2',\n",
       "  'conteudo': 'A tarefa de avaliação é uma das tarefas que um professor tem de realizar',\n",
       "  'autor': 'Anonimo',\n",
       "  'dataCriacao': '2023-07-20',\n",
       "  'comentarios': [{'comentario': 'Completamente de acordo...', 'autor': 'prh'},\n",
       "   {'comentario': 'Mas há quem goste...', 'autor': 'jj'}]},\n",
       " {'id': 'p3',\n",
       "  'conteudo': 'Bananas são amarelas',\n",
       "  'autor': 'Anonimo',\n",
       "  'dataCriacao': '2023-07-20',\n",
       "  'comentarios': [{'comentario': 'Completamente de acordo...',\n",
       "    'autor': 'marco'},\n",
       "   {'comentario': 'Mas há quem goste delas verdes...', 'autor': 'jjj'}]}]"
      ]
     },
     "execution_count": 83,
     "metadata": {},
     "output_type": "execute_result"
    }
   ],
   "source": [
    "def remPost(redeSocial, id):\n",
    "    for post in redeSocial:\n",
    "        if post['id'] == id:\n",
    "            redeSocial.remove(post)\n",
    "    return redeSocial\n",
    "remPost(MyFaceBook1,'p1')"
   ]
  },
  {
   "cell_type": "markdown",
   "id": "de46a635",
   "metadata": {},
   "source": [
    "#### f) `postsPorAutor`, que devolve uma distribuição de posts por autor (à semelhança do que foi feito nas aulas)."
   ]
  },
  {
   "cell_type": "code",
   "execution_count": 84,
   "id": "4118730d",
   "metadata": {},
   "outputs": [
    {
     "data": {
      "text/plain": [
       "{'Anonimo': [{'id': 'p2',\n",
       "   'conteudo': 'A tarefa de avaliação é uma das tarefas que um professor tem de realizar',\n",
       "   'autor': 'Anonimo',\n",
       "   'dataCriacao': '2023-07-20',\n",
       "   'comentarios': [{'comentario': 'Completamente de acordo...',\n",
       "     'autor': 'prh'},\n",
       "    {'comentario': 'Mas há quem goste...', 'autor': 'jj'}]},\n",
       "  {'id': 'p3',\n",
       "   'conteudo': 'Bananas são amarelas',\n",
       "   'autor': 'Anonimo',\n",
       "   'dataCriacao': '2023-07-20',\n",
       "   'comentarios': [{'comentario': 'Completamente de acordo...',\n",
       "     'autor': 'marco'},\n",
       "    {'comentario': 'Mas há quem goste delas verdes...', 'autor': 'jjj'}]}]}"
      ]
     },
     "execution_count": 84,
     "metadata": {},
     "output_type": "execute_result"
    }
   ],
   "source": [
    "def postsPorAutor(redeSocial):\n",
    "    distribuicao = {}\n",
    "    for post in redeSocial:\n",
    "        autor = post['autor']\n",
    "        if autor in distribuicao:\n",
    "            distribuicao[autor].append(post)\n",
    "        else:\n",
    "            distribuicao[autor] = [post]\n",
    "    return distribuicao\n",
    "postsPorAutor(MyFaceBook1)"
   ]
  },
  {
   "cell_type": "markdown",
   "id": "5b1d7d7a",
   "metadata": {},
   "source": [
    "#### g) `comentadoPor`, que recebe um autor e devolve a lista de posts comentados por esse autor."
   ]
  },
  {
   "cell_type": "code",
   "execution_count": 86,
   "id": "a91f2619",
   "metadata": {},
   "outputs": [
    {
     "data": {
      "text/plain": [
       "['A tarefa de avaliação é uma das tarefas que um professor tem de realizar']"
      ]
     },
     "execution_count": 86,
     "metadata": {},
     "output_type": "execute_result"
    }
   ],
   "source": [
    "def comentadoPor(redeSocial, autor):\n",
    "    lista = []\n",
    "    for post in redeSocial:\n",
    "        comentarios = post['comentarios']\n",
    "        for c in comentarios:\n",
    "            if c['autor'] == autor:\n",
    "                lista.append(post['conteudo'])\n",
    "\n",
    "    return lista\n",
    "comentadoPor(MyFaceBook1,'prh')"
   ]
  }
 ],
 "metadata": {
  "kernelspec": {
   "display_name": "Python 3.9.1 64-bit",
   "language": "python",
   "name": "python3"
  },
  "language_info": {
   "codemirror_mode": {
    "name": "ipython",
    "version": 3
   },
   "file_extension": ".py",
   "mimetype": "text/x-python",
   "name": "python",
   "nbconvert_exporter": "python",
   "pygments_lexer": "ipython3",
   "version": "3.11.0"
  },
  "vscode": {
   "interpreter": {
    "hash": "aee8b7b246df8f9039afb4144a1f6fd8d2ca17a180786b69acc140d282b71a49"
   }
  }
 },
 "nbformat": 4,
 "nbformat_minor": 5
}
